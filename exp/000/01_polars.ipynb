{
 "cells": [
  {
   "cell_type": "code",
   "execution_count": 49,
   "metadata": {},
   "outputs": [
    {
     "name": "stdout",
     "output_type": "stream",
     "text": [
      "exp_number: '000'\n",
      "data:\n",
      "  data_root: ../../data\n",
      "  results_root: ../../results\n",
      "  train_path: ../../data/train.csv\n",
      "  test_path: ../../data/test.csv\n",
      "  sample_submission_path: ../../data/sample_submission.csv\n",
      "  results_dir: ../../results/000\n",
      "seed: 42\n",
      "n_splits: 5\n",
      "target: SalePrice\n",
      "\n"
     ]
    }
   ],
   "source": [
    "\"\"\" how to use polars\n",
    "    auther:  ryoma yokoyama\n",
    "    created: 2025.05.13 13:12:50\n",
    "\"\"\"\n",
    "import os\n",
    "import sys\n",
    "import time\n",
    "import warnings\n",
    "from pathlib import Path\n",
    "\n",
    "import matplotlib.pyplot as plt\n",
    "import matplotlib_fontja\n",
    "import numpy as np\n",
    "import polars as pl\n",
    "import seaborn as sns\n",
    "import tqdm\n",
    "from hydra import compose, initialize\n",
    "from omegaconf import OmegaConf\n",
    "\n",
    "from src.seed import seed_everything\n",
    "\n",
    "with initialize(config_path=\"config\", version_base=None):\n",
    "    cfg = compose(config_name=\"config.yaml\")\n",
    "    cfg.exp_number = Path().resolve().name\n",
    "print(OmegaConf.to_yaml(cfg, resolve=True))\n",
    "\n",
    "seed_everything(cfg.seed)\n",
    "\n",
    "warnings.filterwarnings(\"ignore\")\n"
   ]
  },
  {
   "cell_type": "markdown",
   "metadata": {},
   "source": [
    "目的変数（予測対象）： SalePrice  \n",
    "\n",
    "データ：\n",
    "* train.csv: モデルの学習に使用するデータ（販売価格SalePriceを含む）\n",
    "* test.csv: 販売価格を予測する対象のデータ（SalePriceは含まない）\n",
    "* data_description.txt: 各特徴量の詳細な説明\n",
    "* sample_submission.csv: 提出ファイルの形式例"
   ]
  },
  {
   "cell_type": "markdown",
   "metadata": {},
   "source": [
    "## polarsの機能\n",
    "\n",
    "\n",
    "`read_csv`\n",
    "\n",
    "`pands`の`read_csv`と異なり、型定義を自動で行う。\n",
    "\n",
    "polarsは`infer_schema`がデフォルトで`True`になっているため、型を自動で推測してくれる\n",
    "`infer_schema_length`で推測する行数を指定できる(デフォルトは100)\n",
    "\n",
    "\n",
    "\n",
    "* `schema` :各列の名前とデータ型を事前に定義\n",
    "* `schema_overrides` : 各列のデータ型を上書きする\n",
    "* `null_values` : nullとみなす値を指定する\n",
    "* `try_parse_dates` : 日付型を自動で推測するかどうか"
   ]
  },
  {
   "cell_type": "code",
   "execution_count": null,
   "metadata": {},
   "outputs": [],
   "source": [
    "train_df = pl.read_csv(cfg.data.train_path, infer_schema_length=10_000)\n",
    "\n",
    "# train_dfから型を取得\n",
    "train_schema = train_df.schema\n",
    "\n",
    "# ComputeError: could not parse `NA` as dtype `i64`が出るためnull_valuesを指定\n",
    "test_df = pl.read_csv(\n",
    "    cfg.data.test_path,\n",
    "    infer_schema_length=10_000,\n",
    "    schema_overrides=train_schema,\n",
    "    null_values=[\"NA\"],\n",
    ")\n"
   ]
  },
  {
   "cell_type": "markdown",
   "metadata": {},
   "source": [
    "### 列の操作\n",
    " `select`\n",
    "特定の列を選択する\n",
    "* `pl.col` : 列を選択する\n",
    "* `pl.all` : 全ての列を選択する\n",
    "* `pl.exclude` : 特定の列を除外する\n",
    "* `pl.first` : 最初の列を選択する\n",
    "* `pl.last` : 最後の列を選択する\n",
    "* `pl.head` : 最初のn行を選択する\n",
    "* `pl.tail` : 最後のn行を選択する\n",
    "* `pl.slice` : 特定の行を選択する"
   ]
  },
  {
   "cell_type": "code",
   "execution_count": 20,
   "metadata": {},
   "outputs": [
    {
     "data": {
      "text/html": [
       "<div><style>\n",
       ".dataframe > thead > tr,\n",
       ".dataframe > tbody > tr {\n",
       "  text-align: right;\n",
       "  white-space: pre-wrap;\n",
       "}\n",
       "</style>\n",
       "<small>shape: (1, 1)</small><table border=\"1\" class=\"dataframe\"><thead><tr><th>MSSubClass</th></tr><tr><td>i64</td></tr></thead><tbody><tr><td>60</td></tr></tbody></table></div>"
      ],
      "text/plain": [
       "shape: (1, 1)\n",
       "┌────────────┐\n",
       "│ MSSubClass │\n",
       "│ ---        │\n",
       "│ i64        │\n",
       "╞════════════╡\n",
       "│ 60         │\n",
       "└────────────┘"
      ]
     },
     "metadata": {},
     "output_type": "display_data"
    },
    {
     "data": {
      "text/html": [
       "<div><style>\n",
       ".dataframe > thead > tr,\n",
       ".dataframe > tbody > tr {\n",
       "  text-align: right;\n",
       "  white-space: pre-wrap;\n",
       "}\n",
       "</style>\n",
       "<small>shape: (1, 2)</small><table border=\"1\" class=\"dataframe\"><thead><tr><th>MSSubClass</th><th>MSZoning</th></tr><tr><td>i64</td><td>str</td></tr></thead><tbody><tr><td>60</td><td>&quot;RL&quot;</td></tr></tbody></table></div>"
      ],
      "text/plain": [
       "shape: (1, 2)\n",
       "┌────────────┬──────────┐\n",
       "│ MSSubClass ┆ MSZoning │\n",
       "│ ---        ┆ ---      │\n",
       "│ i64        ┆ str      │\n",
       "╞════════════╪══════════╡\n",
       "│ 60         ┆ RL       │\n",
       "└────────────┴──────────┘"
      ]
     },
     "metadata": {},
     "output_type": "display_data"
    },
    {
     "data": {
      "text/html": [
       "<div><style>\n",
       ".dataframe > thead > tr,\n",
       ".dataframe > tbody > tr {\n",
       "  text-align: right;\n",
       "  white-space: pre-wrap;\n",
       "}\n",
       "</style>\n",
       "<small>shape: (1, 80)</small><table border=\"1\" class=\"dataframe\"><thead><tr><th>Id</th><th>MSZoning</th><th>LotFrontage</th><th>LotArea</th><th>Street</th><th>Alley</th><th>LotShape</th><th>LandContour</th><th>Utilities</th><th>LotConfig</th><th>LandSlope</th><th>Neighborhood</th><th>Condition1</th><th>Condition2</th><th>BldgType</th><th>HouseStyle</th><th>OverallQual</th><th>OverallCond</th><th>YearBuilt</th><th>YearRemodAdd</th><th>RoofStyle</th><th>RoofMatl</th><th>Exterior1st</th><th>Exterior2nd</th><th>MasVnrType</th><th>MasVnrArea</th><th>ExterQual</th><th>ExterCond</th><th>Foundation</th><th>BsmtQual</th><th>BsmtCond</th><th>BsmtExposure</th><th>BsmtFinType1</th><th>BsmtFinSF1</th><th>BsmtFinType2</th><th>BsmtFinSF2</th><th>BsmtUnfSF</th><th>&hellip;</th><th>2ndFlrSF</th><th>LowQualFinSF</th><th>GrLivArea</th><th>BsmtFullBath</th><th>BsmtHalfBath</th><th>FullBath</th><th>HalfBath</th><th>BedroomAbvGr</th><th>KitchenAbvGr</th><th>KitchenQual</th><th>TotRmsAbvGrd</th><th>Functional</th><th>Fireplaces</th><th>FireplaceQu</th><th>GarageType</th><th>GarageYrBlt</th><th>GarageFinish</th><th>GarageCars</th><th>GarageArea</th><th>GarageQual</th><th>GarageCond</th><th>PavedDrive</th><th>WoodDeckSF</th><th>OpenPorchSF</th><th>EnclosedPorch</th><th>3SsnPorch</th><th>ScreenPorch</th><th>PoolArea</th><th>PoolQC</th><th>Fence</th><th>MiscFeature</th><th>MiscVal</th><th>MoSold</th><th>YrSold</th><th>SaleType</th><th>SaleCondition</th><th>SalePrice</th></tr><tr><td>i64</td><td>str</td><td>str</td><td>i64</td><td>str</td><td>str</td><td>str</td><td>str</td><td>str</td><td>str</td><td>str</td><td>str</td><td>str</td><td>str</td><td>str</td><td>str</td><td>i64</td><td>i64</td><td>i64</td><td>i64</td><td>str</td><td>str</td><td>str</td><td>str</td><td>str</td><td>str</td><td>str</td><td>str</td><td>str</td><td>str</td><td>str</td><td>str</td><td>str</td><td>i64</td><td>str</td><td>i64</td><td>i64</td><td>&hellip;</td><td>i64</td><td>i64</td><td>i64</td><td>i64</td><td>i64</td><td>i64</td><td>i64</td><td>i64</td><td>i64</td><td>str</td><td>i64</td><td>str</td><td>i64</td><td>str</td><td>str</td><td>str</td><td>str</td><td>i64</td><td>i64</td><td>str</td><td>str</td><td>str</td><td>i64</td><td>i64</td><td>i64</td><td>i64</td><td>i64</td><td>i64</td><td>str</td><td>str</td><td>str</td><td>i64</td><td>i64</td><td>i64</td><td>str</td><td>str</td><td>i64</td></tr></thead><tbody><tr><td>1</td><td>&quot;RL&quot;</td><td>&quot;65&quot;</td><td>8450</td><td>&quot;Pave&quot;</td><td>&quot;NA&quot;</td><td>&quot;Reg&quot;</td><td>&quot;Lvl&quot;</td><td>&quot;AllPub&quot;</td><td>&quot;Inside&quot;</td><td>&quot;Gtl&quot;</td><td>&quot;CollgCr&quot;</td><td>&quot;Norm&quot;</td><td>&quot;Norm&quot;</td><td>&quot;1Fam&quot;</td><td>&quot;2Story&quot;</td><td>7</td><td>5</td><td>2003</td><td>2003</td><td>&quot;Gable&quot;</td><td>&quot;CompShg&quot;</td><td>&quot;VinylSd&quot;</td><td>&quot;VinylSd&quot;</td><td>&quot;BrkFace&quot;</td><td>&quot;196&quot;</td><td>&quot;Gd&quot;</td><td>&quot;TA&quot;</td><td>&quot;PConc&quot;</td><td>&quot;Gd&quot;</td><td>&quot;TA&quot;</td><td>&quot;No&quot;</td><td>&quot;GLQ&quot;</td><td>706</td><td>&quot;Unf&quot;</td><td>0</td><td>150</td><td>&hellip;</td><td>854</td><td>0</td><td>1710</td><td>1</td><td>0</td><td>2</td><td>1</td><td>3</td><td>1</td><td>&quot;Gd&quot;</td><td>8</td><td>&quot;Typ&quot;</td><td>0</td><td>&quot;NA&quot;</td><td>&quot;Attchd&quot;</td><td>&quot;2003&quot;</td><td>&quot;RFn&quot;</td><td>2</td><td>548</td><td>&quot;TA&quot;</td><td>&quot;TA&quot;</td><td>&quot;Y&quot;</td><td>0</td><td>61</td><td>0</td><td>0</td><td>0</td><td>0</td><td>&quot;NA&quot;</td><td>&quot;NA&quot;</td><td>&quot;NA&quot;</td><td>0</td><td>2</td><td>2008</td><td>&quot;WD&quot;</td><td>&quot;Normal&quot;</td><td>208500</td></tr></tbody></table></div>"
      ],
      "text/plain": [
       "shape: (1, 80)\n",
       "┌─────┬──────────┬─────────────┬─────────┬───┬────────┬──────────┬───────────────┬───────────┐\n",
       "│ Id  ┆ MSZoning ┆ LotFrontage ┆ LotArea ┆ … ┆ YrSold ┆ SaleType ┆ SaleCondition ┆ SalePrice │\n",
       "│ --- ┆ ---      ┆ ---         ┆ ---     ┆   ┆ ---    ┆ ---      ┆ ---           ┆ ---       │\n",
       "│ i64 ┆ str      ┆ str         ┆ i64     ┆   ┆ i64    ┆ str      ┆ str           ┆ i64       │\n",
       "╞═════╪══════════╪═════════════╪═════════╪═══╪════════╪══════════╪═══════════════╪═══════════╡\n",
       "│ 1   ┆ RL       ┆ 65          ┆ 8450    ┆ … ┆ 2008   ┆ WD       ┆ Normal        ┆ 208500    │\n",
       "└─────┴──────────┴─────────────┴─────────┴───┴────────┴──────────┴───────────────┴───────────┘"
      ]
     },
     "metadata": {},
     "output_type": "display_data"
    },
    {
     "data": {
      "text/html": [
       "<div><style>\n",
       ".dataframe > thead > tr,\n",
       ".dataframe > tbody > tr {\n",
       "  text-align: right;\n",
       "  white-space: pre-wrap;\n",
       "}\n",
       "</style>\n",
       "<small>shape: (1, 1)</small><table border=\"1\" class=\"dataframe\"><thead><tr><th>Id</th></tr><tr><td>i64</td></tr></thead><tbody><tr><td>1</td></tr></tbody></table></div>"
      ],
      "text/plain": [
       "shape: (1, 1)\n",
       "┌─────┐\n",
       "│ Id  │\n",
       "│ --- │\n",
       "│ i64 │\n",
       "╞═════╡\n",
       "│ 1   │\n",
       "└─────┘"
      ]
     },
     "metadata": {},
     "output_type": "display_data"
    },
    {
     "data": {
      "text/html": [
       "<div><style>\n",
       ".dataframe > thead > tr,\n",
       ".dataframe > tbody > tr {\n",
       "  text-align: right;\n",
       "  white-space: pre-wrap;\n",
       "}\n",
       "</style>\n",
       "<small>shape: (1, 1)</small><table border=\"1\" class=\"dataframe\"><thead><tr><th>SalePrice</th></tr><tr><td>i64</td></tr></thead><tbody><tr><td>208500</td></tr></tbody></table></div>"
      ],
      "text/plain": [
       "shape: (1, 1)\n",
       "┌───────────┐\n",
       "│ SalePrice │\n",
       "│ ---       │\n",
       "│ i64       │\n",
       "╞═══════════╡\n",
       "│ 208500    │\n",
       "└───────────┘"
      ]
     },
     "metadata": {},
     "output_type": "display_data"
    }
   ],
   "source": [
    "# 1個の列を選択。train_df.select(pl.col(\"MSSubClass\"))でも\n",
    "display(train_df.select(\"MSSubClass\").head(1))\n",
    "# 複数の列を選択。train_df.select(pl.col(\"MSSubClass\"), pl.col(\"MSZoning\"))でも\n",
    "display(train_df.select([\"MSSubClass\", \"MSZoning\"]).head(1))\n",
    "# 特定の列を除外して選択\n",
    "display(train_df.select(pl.exclude(\"MSSubClass\")).head(1))\n",
    "# 最初の列を選択\n",
    "display(train_df.select(pl.first()).head(1))\n",
    "# 最後の列を選択\n",
    "display(train_df.select(pl.last()).head(1))\n"
   ]
  },
  {
   "cell_type": "markdown",
   "metadata": {},
   "source": [
    "### 行の操作\n",
    "`filter`\n",
    "特定の条件を満たす行を選択する  \n",
    "`sort`\n",
    "特定の列でソートする"
   ]
  },
  {
   "cell_type": "code",
   "execution_count": null,
   "metadata": {},
   "outputs": [
    {
     "data": {
      "text/html": [
       "<div><style>\n",
       ".dataframe > thead > tr,\n",
       ".dataframe > tbody > tr {\n",
       "  text-align: right;\n",
       "  white-space: pre-wrap;\n",
       "}\n",
       "</style>\n",
       "<small>shape: (1, 81)</small><table border=\"1\" class=\"dataframe\"><thead><tr><th>Id</th><th>MSSubClass</th><th>MSZoning</th><th>LotFrontage</th><th>LotArea</th><th>Street</th><th>Alley</th><th>LotShape</th><th>LandContour</th><th>Utilities</th><th>LotConfig</th><th>LandSlope</th><th>Neighborhood</th><th>Condition1</th><th>Condition2</th><th>BldgType</th><th>HouseStyle</th><th>OverallQual</th><th>OverallCond</th><th>YearBuilt</th><th>YearRemodAdd</th><th>RoofStyle</th><th>RoofMatl</th><th>Exterior1st</th><th>Exterior2nd</th><th>MasVnrType</th><th>MasVnrArea</th><th>ExterQual</th><th>ExterCond</th><th>Foundation</th><th>BsmtQual</th><th>BsmtCond</th><th>BsmtExposure</th><th>BsmtFinType1</th><th>BsmtFinSF1</th><th>BsmtFinType2</th><th>BsmtFinSF2</th><th>&hellip;</th><th>2ndFlrSF</th><th>LowQualFinSF</th><th>GrLivArea</th><th>BsmtFullBath</th><th>BsmtHalfBath</th><th>FullBath</th><th>HalfBath</th><th>BedroomAbvGr</th><th>KitchenAbvGr</th><th>KitchenQual</th><th>TotRmsAbvGrd</th><th>Functional</th><th>Fireplaces</th><th>FireplaceQu</th><th>GarageType</th><th>GarageYrBlt</th><th>GarageFinish</th><th>GarageCars</th><th>GarageArea</th><th>GarageQual</th><th>GarageCond</th><th>PavedDrive</th><th>WoodDeckSF</th><th>OpenPorchSF</th><th>EnclosedPorch</th><th>3SsnPorch</th><th>ScreenPorch</th><th>PoolArea</th><th>PoolQC</th><th>Fence</th><th>MiscFeature</th><th>MiscVal</th><th>MoSold</th><th>YrSold</th><th>SaleType</th><th>SaleCondition</th><th>SalePrice</th></tr><tr><td>i64</td><td>i64</td><td>str</td><td>str</td><td>i64</td><td>str</td><td>str</td><td>str</td><td>str</td><td>str</td><td>str</td><td>str</td><td>str</td><td>str</td><td>str</td><td>str</td><td>str</td><td>i64</td><td>i64</td><td>i64</td><td>i64</td><td>str</td><td>str</td><td>str</td><td>str</td><td>str</td><td>str</td><td>str</td><td>str</td><td>str</td><td>str</td><td>str</td><td>str</td><td>str</td><td>i64</td><td>str</td><td>i64</td><td>&hellip;</td><td>i64</td><td>i64</td><td>i64</td><td>i64</td><td>i64</td><td>i64</td><td>i64</td><td>i64</td><td>i64</td><td>str</td><td>i64</td><td>str</td><td>i64</td><td>str</td><td>str</td><td>str</td><td>str</td><td>i64</td><td>i64</td><td>str</td><td>str</td><td>str</td><td>i64</td><td>i64</td><td>i64</td><td>i64</td><td>i64</td><td>i64</td><td>str</td><td>str</td><td>str</td><td>i64</td><td>i64</td><td>i64</td><td>str</td><td>str</td><td>i64</td></tr></thead><tbody><tr><td>2</td><td>20</td><td>&quot;RL&quot;</td><td>&quot;80&quot;</td><td>9600</td><td>&quot;Pave&quot;</td><td>&quot;NA&quot;</td><td>&quot;Reg&quot;</td><td>&quot;Lvl&quot;</td><td>&quot;AllPub&quot;</td><td>&quot;FR2&quot;</td><td>&quot;Gtl&quot;</td><td>&quot;Veenker&quot;</td><td>&quot;Feedr&quot;</td><td>&quot;Norm&quot;</td><td>&quot;1Fam&quot;</td><td>&quot;1Story&quot;</td><td>6</td><td>8</td><td>1976</td><td>1976</td><td>&quot;Gable&quot;</td><td>&quot;CompShg&quot;</td><td>&quot;MetalSd&quot;</td><td>&quot;MetalSd&quot;</td><td>&quot;None&quot;</td><td>&quot;0&quot;</td><td>&quot;TA&quot;</td><td>&quot;TA&quot;</td><td>&quot;CBlock&quot;</td><td>&quot;Gd&quot;</td><td>&quot;TA&quot;</td><td>&quot;Gd&quot;</td><td>&quot;ALQ&quot;</td><td>978</td><td>&quot;Unf&quot;</td><td>0</td><td>&hellip;</td><td>0</td><td>0</td><td>1262</td><td>0</td><td>1</td><td>2</td><td>0</td><td>3</td><td>1</td><td>&quot;TA&quot;</td><td>6</td><td>&quot;Typ&quot;</td><td>1</td><td>&quot;TA&quot;</td><td>&quot;Attchd&quot;</td><td>&quot;1976&quot;</td><td>&quot;RFn&quot;</td><td>2</td><td>460</td><td>&quot;TA&quot;</td><td>&quot;TA&quot;</td><td>&quot;Y&quot;</td><td>298</td><td>0</td><td>0</td><td>0</td><td>0</td><td>0</td><td>&quot;NA&quot;</td><td>&quot;NA&quot;</td><td>&quot;NA&quot;</td><td>0</td><td>5</td><td>2007</td><td>&quot;WD&quot;</td><td>&quot;Normal&quot;</td><td>181500</td></tr></tbody></table></div>"
      ],
      "text/plain": [
       "shape: (1, 81)\n",
       "┌─────┬────────────┬──────────┬─────────────┬───┬────────┬──────────┬───────────────┬───────────┐\n",
       "│ Id  ┆ MSSubClass ┆ MSZoning ┆ LotFrontage ┆ … ┆ YrSold ┆ SaleType ┆ SaleCondition ┆ SalePrice │\n",
       "│ --- ┆ ---        ┆ ---      ┆ ---         ┆   ┆ ---    ┆ ---      ┆ ---           ┆ ---       │\n",
       "│ i64 ┆ i64        ┆ str      ┆ str         ┆   ┆ i64    ┆ str      ┆ str           ┆ i64       │\n",
       "╞═════╪════════════╪══════════╪═════════════╪═══╪════════╪══════════╪═══════════════╪═══════════╡\n",
       "│ 2   ┆ 20         ┆ RL       ┆ 80          ┆ … ┆ 2007   ┆ WD       ┆ Normal        ┆ 181500    │\n",
       "└─────┴────────────┴──────────┴─────────────┴───┴────────┴──────────┴───────────────┴───────────┘"
      ]
     },
     "metadata": {},
     "output_type": "display_data"
    },
    {
     "data": {
      "text/html": [
       "<div><style>\n",
       ".dataframe > thead > tr,\n",
       ".dataframe > tbody > tr {\n",
       "  text-align: right;\n",
       "  white-space: pre-wrap;\n",
       "}\n",
       "</style>\n",
       "<small>shape: (1, 81)</small><table border=\"1\" class=\"dataframe\"><thead><tr><th>Id</th><th>MSSubClass</th><th>MSZoning</th><th>LotFrontage</th><th>LotArea</th><th>Street</th><th>Alley</th><th>LotShape</th><th>LandContour</th><th>Utilities</th><th>LotConfig</th><th>LandSlope</th><th>Neighborhood</th><th>Condition1</th><th>Condition2</th><th>BldgType</th><th>HouseStyle</th><th>OverallQual</th><th>OverallCond</th><th>YearBuilt</th><th>YearRemodAdd</th><th>RoofStyle</th><th>RoofMatl</th><th>Exterior1st</th><th>Exterior2nd</th><th>MasVnrType</th><th>MasVnrArea</th><th>ExterQual</th><th>ExterCond</th><th>Foundation</th><th>BsmtQual</th><th>BsmtCond</th><th>BsmtExposure</th><th>BsmtFinType1</th><th>BsmtFinSF1</th><th>BsmtFinType2</th><th>BsmtFinSF2</th><th>&hellip;</th><th>2ndFlrSF</th><th>LowQualFinSF</th><th>GrLivArea</th><th>BsmtFullBath</th><th>BsmtHalfBath</th><th>FullBath</th><th>HalfBath</th><th>BedroomAbvGr</th><th>KitchenAbvGr</th><th>KitchenQual</th><th>TotRmsAbvGrd</th><th>Functional</th><th>Fireplaces</th><th>FireplaceQu</th><th>GarageType</th><th>GarageYrBlt</th><th>GarageFinish</th><th>GarageCars</th><th>GarageArea</th><th>GarageQual</th><th>GarageCond</th><th>PavedDrive</th><th>WoodDeckSF</th><th>OpenPorchSF</th><th>EnclosedPorch</th><th>3SsnPorch</th><th>ScreenPorch</th><th>PoolArea</th><th>PoolQC</th><th>Fence</th><th>MiscFeature</th><th>MiscVal</th><th>MoSold</th><th>YrSold</th><th>SaleType</th><th>SaleCondition</th><th>SalePrice</th></tr><tr><td>i64</td><td>i64</td><td>str</td><td>str</td><td>i64</td><td>str</td><td>str</td><td>str</td><td>str</td><td>str</td><td>str</td><td>str</td><td>str</td><td>str</td><td>str</td><td>str</td><td>str</td><td>i64</td><td>i64</td><td>i64</td><td>i64</td><td>str</td><td>str</td><td>str</td><td>str</td><td>str</td><td>str</td><td>str</td><td>str</td><td>str</td><td>str</td><td>str</td><td>str</td><td>str</td><td>i64</td><td>str</td><td>i64</td><td>&hellip;</td><td>i64</td><td>i64</td><td>i64</td><td>i64</td><td>i64</td><td>i64</td><td>i64</td><td>i64</td><td>i64</td><td>str</td><td>i64</td><td>str</td><td>i64</td><td>str</td><td>str</td><td>str</td><td>str</td><td>i64</td><td>i64</td><td>str</td><td>str</td><td>str</td><td>i64</td><td>i64</td><td>i64</td><td>i64</td><td>i64</td><td>i64</td><td>str</td><td>str</td><td>str</td><td>i64</td><td>i64</td><td>i64</td><td>str</td><td>str</td><td>i64</td></tr></thead><tbody><tr><td>2</td><td>20</td><td>&quot;RL&quot;</td><td>&quot;80&quot;</td><td>9600</td><td>&quot;Pave&quot;</td><td>&quot;NA&quot;</td><td>&quot;Reg&quot;</td><td>&quot;Lvl&quot;</td><td>&quot;AllPub&quot;</td><td>&quot;FR2&quot;</td><td>&quot;Gtl&quot;</td><td>&quot;Veenker&quot;</td><td>&quot;Feedr&quot;</td><td>&quot;Norm&quot;</td><td>&quot;1Fam&quot;</td><td>&quot;1Story&quot;</td><td>6</td><td>8</td><td>1976</td><td>1976</td><td>&quot;Gable&quot;</td><td>&quot;CompShg&quot;</td><td>&quot;MetalSd&quot;</td><td>&quot;MetalSd&quot;</td><td>&quot;None&quot;</td><td>&quot;0&quot;</td><td>&quot;TA&quot;</td><td>&quot;TA&quot;</td><td>&quot;CBlock&quot;</td><td>&quot;Gd&quot;</td><td>&quot;TA&quot;</td><td>&quot;Gd&quot;</td><td>&quot;ALQ&quot;</td><td>978</td><td>&quot;Unf&quot;</td><td>0</td><td>&hellip;</td><td>0</td><td>0</td><td>1262</td><td>0</td><td>1</td><td>2</td><td>0</td><td>3</td><td>1</td><td>&quot;TA&quot;</td><td>6</td><td>&quot;Typ&quot;</td><td>1</td><td>&quot;TA&quot;</td><td>&quot;Attchd&quot;</td><td>&quot;1976&quot;</td><td>&quot;RFn&quot;</td><td>2</td><td>460</td><td>&quot;TA&quot;</td><td>&quot;TA&quot;</td><td>&quot;Y&quot;</td><td>298</td><td>0</td><td>0</td><td>0</td><td>0</td><td>0</td><td>&quot;NA&quot;</td><td>&quot;NA&quot;</td><td>&quot;NA&quot;</td><td>0</td><td>5</td><td>2007</td><td>&quot;WD&quot;</td><td>&quot;Normal&quot;</td><td>181500</td></tr></tbody></table></div>"
      ],
      "text/plain": [
       "shape: (1, 81)\n",
       "┌─────┬────────────┬──────────┬─────────────┬───┬────────┬──────────┬───────────────┬───────────┐\n",
       "│ Id  ┆ MSSubClass ┆ MSZoning ┆ LotFrontage ┆ … ┆ YrSold ┆ SaleType ┆ SaleCondition ┆ SalePrice │\n",
       "│ --- ┆ ---        ┆ ---      ┆ ---         ┆   ┆ ---    ┆ ---      ┆ ---           ┆ ---       │\n",
       "│ i64 ┆ i64        ┆ str      ┆ str         ┆   ┆ i64    ┆ str      ┆ str           ┆ i64       │\n",
       "╞═════╪════════════╪══════════╪═════════════╪═══╪════════╪══════════╪═══════════════╪═══════════╡\n",
       "│ 2   ┆ 20         ┆ RL       ┆ 80          ┆ … ┆ 2007   ┆ WD       ┆ Normal        ┆ 181500    │\n",
       "└─────┴────────────┴──────────┴─────────────┴───┴────────┴──────────┴───────────────┴───────────┘"
      ]
     },
     "metadata": {},
     "output_type": "display_data"
    },
    {
     "data": {
      "text/html": [
       "<div><style>\n",
       ".dataframe > thead > tr,\n",
       ".dataframe > tbody > tr {\n",
       "  text-align: right;\n",
       "  white-space: pre-wrap;\n",
       "}\n",
       "</style>\n",
       "<small>shape: (1, 81)</small><table border=\"1\" class=\"dataframe\"><thead><tr><th>Id</th><th>MSSubClass</th><th>MSZoning</th><th>LotFrontage</th><th>LotArea</th><th>Street</th><th>Alley</th><th>LotShape</th><th>LandContour</th><th>Utilities</th><th>LotConfig</th><th>LandSlope</th><th>Neighborhood</th><th>Condition1</th><th>Condition2</th><th>BldgType</th><th>HouseStyle</th><th>OverallQual</th><th>OverallCond</th><th>YearBuilt</th><th>YearRemodAdd</th><th>RoofStyle</th><th>RoofMatl</th><th>Exterior1st</th><th>Exterior2nd</th><th>MasVnrType</th><th>MasVnrArea</th><th>ExterQual</th><th>ExterCond</th><th>Foundation</th><th>BsmtQual</th><th>BsmtCond</th><th>BsmtExposure</th><th>BsmtFinType1</th><th>BsmtFinSF1</th><th>BsmtFinType2</th><th>BsmtFinSF2</th><th>&hellip;</th><th>2ndFlrSF</th><th>LowQualFinSF</th><th>GrLivArea</th><th>BsmtFullBath</th><th>BsmtHalfBath</th><th>FullBath</th><th>HalfBath</th><th>BedroomAbvGr</th><th>KitchenAbvGr</th><th>KitchenQual</th><th>TotRmsAbvGrd</th><th>Functional</th><th>Fireplaces</th><th>FireplaceQu</th><th>GarageType</th><th>GarageYrBlt</th><th>GarageFinish</th><th>GarageCars</th><th>GarageArea</th><th>GarageQual</th><th>GarageCond</th><th>PavedDrive</th><th>WoodDeckSF</th><th>OpenPorchSF</th><th>EnclosedPorch</th><th>3SsnPorch</th><th>ScreenPorch</th><th>PoolArea</th><th>PoolQC</th><th>Fence</th><th>MiscFeature</th><th>MiscVal</th><th>MoSold</th><th>YrSold</th><th>SaleType</th><th>SaleCondition</th><th>SalePrice</th></tr><tr><td>i64</td><td>i64</td><td>str</td><td>str</td><td>i64</td><td>str</td><td>str</td><td>str</td><td>str</td><td>str</td><td>str</td><td>str</td><td>str</td><td>str</td><td>str</td><td>str</td><td>str</td><td>i64</td><td>i64</td><td>i64</td><td>i64</td><td>str</td><td>str</td><td>str</td><td>str</td><td>str</td><td>str</td><td>str</td><td>str</td><td>str</td><td>str</td><td>str</td><td>str</td><td>str</td><td>i64</td><td>str</td><td>i64</td><td>&hellip;</td><td>i64</td><td>i64</td><td>i64</td><td>i64</td><td>i64</td><td>i64</td><td>i64</td><td>i64</td><td>i64</td><td>str</td><td>i64</td><td>str</td><td>i64</td><td>str</td><td>str</td><td>str</td><td>str</td><td>i64</td><td>i64</td><td>str</td><td>str</td><td>str</td><td>i64</td><td>i64</td><td>i64</td><td>i64</td><td>i64</td><td>i64</td><td>str</td><td>str</td><td>str</td><td>i64</td><td>i64</td><td>i64</td><td>str</td><td>str</td><td>i64</td></tr></thead><tbody><tr><td>1</td><td>60</td><td>&quot;RL&quot;</td><td>&quot;65&quot;</td><td>8450</td><td>&quot;Pave&quot;</td><td>&quot;NA&quot;</td><td>&quot;Reg&quot;</td><td>&quot;Lvl&quot;</td><td>&quot;AllPub&quot;</td><td>&quot;Inside&quot;</td><td>&quot;Gtl&quot;</td><td>&quot;CollgCr&quot;</td><td>&quot;Norm&quot;</td><td>&quot;Norm&quot;</td><td>&quot;1Fam&quot;</td><td>&quot;2Story&quot;</td><td>7</td><td>5</td><td>2003</td><td>2003</td><td>&quot;Gable&quot;</td><td>&quot;CompShg&quot;</td><td>&quot;VinylSd&quot;</td><td>&quot;VinylSd&quot;</td><td>&quot;BrkFace&quot;</td><td>&quot;196&quot;</td><td>&quot;Gd&quot;</td><td>&quot;TA&quot;</td><td>&quot;PConc&quot;</td><td>&quot;Gd&quot;</td><td>&quot;TA&quot;</td><td>&quot;No&quot;</td><td>&quot;GLQ&quot;</td><td>706</td><td>&quot;Unf&quot;</td><td>0</td><td>&hellip;</td><td>854</td><td>0</td><td>1710</td><td>1</td><td>0</td><td>2</td><td>1</td><td>3</td><td>1</td><td>&quot;Gd&quot;</td><td>8</td><td>&quot;Typ&quot;</td><td>0</td><td>&quot;NA&quot;</td><td>&quot;Attchd&quot;</td><td>&quot;2003&quot;</td><td>&quot;RFn&quot;</td><td>2</td><td>548</td><td>&quot;TA&quot;</td><td>&quot;TA&quot;</td><td>&quot;Y&quot;</td><td>0</td><td>61</td><td>0</td><td>0</td><td>0</td><td>0</td><td>&quot;NA&quot;</td><td>&quot;NA&quot;</td><td>&quot;NA&quot;</td><td>0</td><td>2</td><td>2008</td><td>&quot;WD&quot;</td><td>&quot;Normal&quot;</td><td>208500</td></tr></tbody></table></div>"
      ],
      "text/plain": [
       "shape: (1, 81)\n",
       "┌─────┬────────────┬──────────┬─────────────┬───┬────────┬──────────┬───────────────┬───────────┐\n",
       "│ Id  ┆ MSSubClass ┆ MSZoning ┆ LotFrontage ┆ … ┆ YrSold ┆ SaleType ┆ SaleCondition ┆ SalePrice │\n",
       "│ --- ┆ ---        ┆ ---      ┆ ---         ┆   ┆ ---    ┆ ---      ┆ ---           ┆ ---       │\n",
       "│ i64 ┆ i64        ┆ str      ┆ str         ┆   ┆ i64    ┆ str      ┆ str           ┆ i64       │\n",
       "╞═════╪════════════╪══════════╪═════════════╪═══╪════════╪══════════╪═══════════════╪═══════════╡\n",
       "│ 1   ┆ 60         ┆ RL       ┆ 65          ┆ … ┆ 2008   ┆ WD       ┆ Normal        ┆ 208500    │\n",
       "└─────┴────────────┴──────────┴─────────────┴───┴────────┴──────────┴───────────────┴───────────┘"
      ]
     },
     "metadata": {},
     "output_type": "display_data"
    },
    {
     "data": {
      "text/html": [
       "<div><style>\n",
       ".dataframe > thead > tr,\n",
       ".dataframe > tbody > tr {\n",
       "  text-align: right;\n",
       "  white-space: pre-wrap;\n",
       "}\n",
       "</style>\n",
       "<small>shape: (5, 81)</small><table border=\"1\" class=\"dataframe\"><thead><tr><th>Id</th><th>MSSubClass</th><th>MSZoning</th><th>LotFrontage</th><th>LotArea</th><th>Street</th><th>Alley</th><th>LotShape</th><th>LandContour</th><th>Utilities</th><th>LotConfig</th><th>LandSlope</th><th>Neighborhood</th><th>Condition1</th><th>Condition2</th><th>BldgType</th><th>HouseStyle</th><th>OverallQual</th><th>OverallCond</th><th>YearBuilt</th><th>YearRemodAdd</th><th>RoofStyle</th><th>RoofMatl</th><th>Exterior1st</th><th>Exterior2nd</th><th>MasVnrType</th><th>MasVnrArea</th><th>ExterQual</th><th>ExterCond</th><th>Foundation</th><th>BsmtQual</th><th>BsmtCond</th><th>BsmtExposure</th><th>BsmtFinType1</th><th>BsmtFinSF1</th><th>BsmtFinType2</th><th>BsmtFinSF2</th><th>&hellip;</th><th>2ndFlrSF</th><th>LowQualFinSF</th><th>GrLivArea</th><th>BsmtFullBath</th><th>BsmtHalfBath</th><th>FullBath</th><th>HalfBath</th><th>BedroomAbvGr</th><th>KitchenAbvGr</th><th>KitchenQual</th><th>TotRmsAbvGrd</th><th>Functional</th><th>Fireplaces</th><th>FireplaceQu</th><th>GarageType</th><th>GarageYrBlt</th><th>GarageFinish</th><th>GarageCars</th><th>GarageArea</th><th>GarageQual</th><th>GarageCond</th><th>PavedDrive</th><th>WoodDeckSF</th><th>OpenPorchSF</th><th>EnclosedPorch</th><th>3SsnPorch</th><th>ScreenPorch</th><th>PoolArea</th><th>PoolQC</th><th>Fence</th><th>MiscFeature</th><th>MiscVal</th><th>MoSold</th><th>YrSold</th><th>SaleType</th><th>SaleCondition</th><th>SalePrice</th></tr><tr><td>i64</td><td>i64</td><td>str</td><td>str</td><td>i64</td><td>str</td><td>str</td><td>str</td><td>str</td><td>str</td><td>str</td><td>str</td><td>str</td><td>str</td><td>str</td><td>str</td><td>str</td><td>i64</td><td>i64</td><td>i64</td><td>i64</td><td>str</td><td>str</td><td>str</td><td>str</td><td>str</td><td>str</td><td>str</td><td>str</td><td>str</td><td>str</td><td>str</td><td>str</td><td>str</td><td>i64</td><td>str</td><td>i64</td><td>&hellip;</td><td>i64</td><td>i64</td><td>i64</td><td>i64</td><td>i64</td><td>i64</td><td>i64</td><td>i64</td><td>i64</td><td>str</td><td>i64</td><td>str</td><td>i64</td><td>str</td><td>str</td><td>str</td><td>str</td><td>i64</td><td>i64</td><td>str</td><td>str</td><td>str</td><td>i64</td><td>i64</td><td>i64</td><td>i64</td><td>i64</td><td>i64</td><td>str</td><td>str</td><td>str</td><td>i64</td><td>i64</td><td>i64</td><td>str</td><td>str</td><td>i64</td></tr></thead><tbody><tr><td>1</td><td>60</td><td>&quot;RL&quot;</td><td>&quot;65&quot;</td><td>8450</td><td>&quot;Pave&quot;</td><td>&quot;NA&quot;</td><td>&quot;Reg&quot;</td><td>&quot;Lvl&quot;</td><td>&quot;AllPub&quot;</td><td>&quot;Inside&quot;</td><td>&quot;Gtl&quot;</td><td>&quot;CollgCr&quot;</td><td>&quot;Norm&quot;</td><td>&quot;Norm&quot;</td><td>&quot;1Fam&quot;</td><td>&quot;2Story&quot;</td><td>7</td><td>5</td><td>2003</td><td>2003</td><td>&quot;Gable&quot;</td><td>&quot;CompShg&quot;</td><td>&quot;VinylSd&quot;</td><td>&quot;VinylSd&quot;</td><td>&quot;BrkFace&quot;</td><td>&quot;196&quot;</td><td>&quot;Gd&quot;</td><td>&quot;TA&quot;</td><td>&quot;PConc&quot;</td><td>&quot;Gd&quot;</td><td>&quot;TA&quot;</td><td>&quot;No&quot;</td><td>&quot;GLQ&quot;</td><td>706</td><td>&quot;Unf&quot;</td><td>0</td><td>&hellip;</td><td>854</td><td>0</td><td>1710</td><td>1</td><td>0</td><td>2</td><td>1</td><td>3</td><td>1</td><td>&quot;Gd&quot;</td><td>8</td><td>&quot;Typ&quot;</td><td>0</td><td>&quot;NA&quot;</td><td>&quot;Attchd&quot;</td><td>&quot;2003&quot;</td><td>&quot;RFn&quot;</td><td>2</td><td>548</td><td>&quot;TA&quot;</td><td>&quot;TA&quot;</td><td>&quot;Y&quot;</td><td>0</td><td>61</td><td>0</td><td>0</td><td>0</td><td>0</td><td>&quot;NA&quot;</td><td>&quot;NA&quot;</td><td>&quot;NA&quot;</td><td>0</td><td>2</td><td>2008</td><td>&quot;WD&quot;</td><td>&quot;Normal&quot;</td><td>208500</td></tr><tr><td>2</td><td>20</td><td>&quot;RL&quot;</td><td>&quot;80&quot;</td><td>9600</td><td>&quot;Pave&quot;</td><td>&quot;NA&quot;</td><td>&quot;Reg&quot;</td><td>&quot;Lvl&quot;</td><td>&quot;AllPub&quot;</td><td>&quot;FR2&quot;</td><td>&quot;Gtl&quot;</td><td>&quot;Veenker&quot;</td><td>&quot;Feedr&quot;</td><td>&quot;Norm&quot;</td><td>&quot;1Fam&quot;</td><td>&quot;1Story&quot;</td><td>6</td><td>8</td><td>1976</td><td>1976</td><td>&quot;Gable&quot;</td><td>&quot;CompShg&quot;</td><td>&quot;MetalSd&quot;</td><td>&quot;MetalSd&quot;</td><td>&quot;None&quot;</td><td>&quot;0&quot;</td><td>&quot;TA&quot;</td><td>&quot;TA&quot;</td><td>&quot;CBlock&quot;</td><td>&quot;Gd&quot;</td><td>&quot;TA&quot;</td><td>&quot;Gd&quot;</td><td>&quot;ALQ&quot;</td><td>978</td><td>&quot;Unf&quot;</td><td>0</td><td>&hellip;</td><td>0</td><td>0</td><td>1262</td><td>0</td><td>1</td><td>2</td><td>0</td><td>3</td><td>1</td><td>&quot;TA&quot;</td><td>6</td><td>&quot;Typ&quot;</td><td>1</td><td>&quot;TA&quot;</td><td>&quot;Attchd&quot;</td><td>&quot;1976&quot;</td><td>&quot;RFn&quot;</td><td>2</td><td>460</td><td>&quot;TA&quot;</td><td>&quot;TA&quot;</td><td>&quot;Y&quot;</td><td>298</td><td>0</td><td>0</td><td>0</td><td>0</td><td>0</td><td>&quot;NA&quot;</td><td>&quot;NA&quot;</td><td>&quot;NA&quot;</td><td>0</td><td>5</td><td>2007</td><td>&quot;WD&quot;</td><td>&quot;Normal&quot;</td><td>181500</td></tr><tr><td>3</td><td>60</td><td>&quot;RL&quot;</td><td>&quot;68&quot;</td><td>11250</td><td>&quot;Pave&quot;</td><td>&quot;NA&quot;</td><td>&quot;IR1&quot;</td><td>&quot;Lvl&quot;</td><td>&quot;AllPub&quot;</td><td>&quot;Inside&quot;</td><td>&quot;Gtl&quot;</td><td>&quot;CollgCr&quot;</td><td>&quot;Norm&quot;</td><td>&quot;Norm&quot;</td><td>&quot;1Fam&quot;</td><td>&quot;2Story&quot;</td><td>7</td><td>5</td><td>2001</td><td>2002</td><td>&quot;Gable&quot;</td><td>&quot;CompShg&quot;</td><td>&quot;VinylSd&quot;</td><td>&quot;VinylSd&quot;</td><td>&quot;BrkFace&quot;</td><td>&quot;162&quot;</td><td>&quot;Gd&quot;</td><td>&quot;TA&quot;</td><td>&quot;PConc&quot;</td><td>&quot;Gd&quot;</td><td>&quot;TA&quot;</td><td>&quot;Mn&quot;</td><td>&quot;GLQ&quot;</td><td>486</td><td>&quot;Unf&quot;</td><td>0</td><td>&hellip;</td><td>866</td><td>0</td><td>1786</td><td>1</td><td>0</td><td>2</td><td>1</td><td>3</td><td>1</td><td>&quot;Gd&quot;</td><td>6</td><td>&quot;Typ&quot;</td><td>1</td><td>&quot;TA&quot;</td><td>&quot;Attchd&quot;</td><td>&quot;2001&quot;</td><td>&quot;RFn&quot;</td><td>2</td><td>608</td><td>&quot;TA&quot;</td><td>&quot;TA&quot;</td><td>&quot;Y&quot;</td><td>0</td><td>42</td><td>0</td><td>0</td><td>0</td><td>0</td><td>&quot;NA&quot;</td><td>&quot;NA&quot;</td><td>&quot;NA&quot;</td><td>0</td><td>9</td><td>2008</td><td>&quot;WD&quot;</td><td>&quot;Normal&quot;</td><td>223500</td></tr><tr><td>4</td><td>70</td><td>&quot;RL&quot;</td><td>&quot;60&quot;</td><td>9550</td><td>&quot;Pave&quot;</td><td>&quot;NA&quot;</td><td>&quot;IR1&quot;</td><td>&quot;Lvl&quot;</td><td>&quot;AllPub&quot;</td><td>&quot;Corner&quot;</td><td>&quot;Gtl&quot;</td><td>&quot;Crawfor&quot;</td><td>&quot;Norm&quot;</td><td>&quot;Norm&quot;</td><td>&quot;1Fam&quot;</td><td>&quot;2Story&quot;</td><td>7</td><td>5</td><td>1915</td><td>1970</td><td>&quot;Gable&quot;</td><td>&quot;CompShg&quot;</td><td>&quot;Wd Sdng&quot;</td><td>&quot;Wd Shng&quot;</td><td>&quot;None&quot;</td><td>&quot;0&quot;</td><td>&quot;TA&quot;</td><td>&quot;TA&quot;</td><td>&quot;BrkTil&quot;</td><td>&quot;TA&quot;</td><td>&quot;Gd&quot;</td><td>&quot;No&quot;</td><td>&quot;ALQ&quot;</td><td>216</td><td>&quot;Unf&quot;</td><td>0</td><td>&hellip;</td><td>756</td><td>0</td><td>1717</td><td>1</td><td>0</td><td>1</td><td>0</td><td>3</td><td>1</td><td>&quot;Gd&quot;</td><td>7</td><td>&quot;Typ&quot;</td><td>1</td><td>&quot;Gd&quot;</td><td>&quot;Detchd&quot;</td><td>&quot;1998&quot;</td><td>&quot;Unf&quot;</td><td>3</td><td>642</td><td>&quot;TA&quot;</td><td>&quot;TA&quot;</td><td>&quot;Y&quot;</td><td>0</td><td>35</td><td>272</td><td>0</td><td>0</td><td>0</td><td>&quot;NA&quot;</td><td>&quot;NA&quot;</td><td>&quot;NA&quot;</td><td>0</td><td>2</td><td>2006</td><td>&quot;WD&quot;</td><td>&quot;Abnorml&quot;</td><td>140000</td></tr><tr><td>5</td><td>60</td><td>&quot;RL&quot;</td><td>&quot;84&quot;</td><td>14260</td><td>&quot;Pave&quot;</td><td>&quot;NA&quot;</td><td>&quot;IR1&quot;</td><td>&quot;Lvl&quot;</td><td>&quot;AllPub&quot;</td><td>&quot;FR2&quot;</td><td>&quot;Gtl&quot;</td><td>&quot;NoRidge&quot;</td><td>&quot;Norm&quot;</td><td>&quot;Norm&quot;</td><td>&quot;1Fam&quot;</td><td>&quot;2Story&quot;</td><td>8</td><td>5</td><td>2000</td><td>2000</td><td>&quot;Gable&quot;</td><td>&quot;CompShg&quot;</td><td>&quot;VinylSd&quot;</td><td>&quot;VinylSd&quot;</td><td>&quot;BrkFace&quot;</td><td>&quot;350&quot;</td><td>&quot;Gd&quot;</td><td>&quot;TA&quot;</td><td>&quot;PConc&quot;</td><td>&quot;Gd&quot;</td><td>&quot;TA&quot;</td><td>&quot;Av&quot;</td><td>&quot;GLQ&quot;</td><td>655</td><td>&quot;Unf&quot;</td><td>0</td><td>&hellip;</td><td>1053</td><td>0</td><td>2198</td><td>1</td><td>0</td><td>2</td><td>1</td><td>4</td><td>1</td><td>&quot;Gd&quot;</td><td>9</td><td>&quot;Typ&quot;</td><td>1</td><td>&quot;TA&quot;</td><td>&quot;Attchd&quot;</td><td>&quot;2000&quot;</td><td>&quot;RFn&quot;</td><td>3</td><td>836</td><td>&quot;TA&quot;</td><td>&quot;TA&quot;</td><td>&quot;Y&quot;</td><td>192</td><td>84</td><td>0</td><td>0</td><td>0</td><td>0</td><td>&quot;NA&quot;</td><td>&quot;NA&quot;</td><td>&quot;NA&quot;</td><td>0</td><td>12</td><td>2008</td><td>&quot;WD&quot;</td><td>&quot;Normal&quot;</td><td>250000</td></tr></tbody></table></div>"
      ],
      "text/plain": [
       "shape: (5, 81)\n",
       "┌─────┬────────────┬──────────┬─────────────┬───┬────────┬──────────┬───────────────┬───────────┐\n",
       "│ Id  ┆ MSSubClass ┆ MSZoning ┆ LotFrontage ┆ … ┆ YrSold ┆ SaleType ┆ SaleCondition ┆ SalePrice │\n",
       "│ --- ┆ ---        ┆ ---      ┆ ---         ┆   ┆ ---    ┆ ---      ┆ ---           ┆ ---       │\n",
       "│ i64 ┆ i64        ┆ str      ┆ str         ┆   ┆ i64    ┆ str      ┆ str           ┆ i64       │\n",
       "╞═════╪════════════╪══════════╪═════════════╪═══╪════════╪══════════╪═══════════════╪═══════════╡\n",
       "│ 1   ┆ 60         ┆ RL       ┆ 65          ┆ … ┆ 2008   ┆ WD       ┆ Normal        ┆ 208500    │\n",
       "│ 2   ┆ 20         ┆ RL       ┆ 80          ┆ … ┆ 2007   ┆ WD       ┆ Normal        ┆ 181500    │\n",
       "│ 3   ┆ 60         ┆ RL       ┆ 68          ┆ … ┆ 2008   ┆ WD       ┆ Normal        ┆ 223500    │\n",
       "│ 4   ┆ 70         ┆ RL       ┆ 60          ┆ … ┆ 2006   ┆ WD       ┆ Abnorml       ┆ 140000    │\n",
       "│ 5   ┆ 60         ┆ RL       ┆ 84          ┆ … ┆ 2008   ┆ WD       ┆ Normal        ┆ 250000    │\n",
       "└─────┴────────────┴──────────┴─────────────┴───┴────────┴──────────┴───────────────┴───────────┘"
      ]
     },
     "metadata": {},
     "output_type": "display_data"
    },
    {
     "data": {
      "text/html": [
       "<div><style>\n",
       ".dataframe > thead > tr,\n",
       ".dataframe > tbody > tr {\n",
       "  text-align: right;\n",
       "  white-space: pre-wrap;\n",
       "}\n",
       "</style>\n",
       "<small>shape: (5, 81)</small><table border=\"1\" class=\"dataframe\"><thead><tr><th>Id</th><th>MSSubClass</th><th>MSZoning</th><th>LotFrontage</th><th>LotArea</th><th>Street</th><th>Alley</th><th>LotShape</th><th>LandContour</th><th>Utilities</th><th>LotConfig</th><th>LandSlope</th><th>Neighborhood</th><th>Condition1</th><th>Condition2</th><th>BldgType</th><th>HouseStyle</th><th>OverallQual</th><th>OverallCond</th><th>YearBuilt</th><th>YearRemodAdd</th><th>RoofStyle</th><th>RoofMatl</th><th>Exterior1st</th><th>Exterior2nd</th><th>MasVnrType</th><th>MasVnrArea</th><th>ExterQual</th><th>ExterCond</th><th>Foundation</th><th>BsmtQual</th><th>BsmtCond</th><th>BsmtExposure</th><th>BsmtFinType1</th><th>BsmtFinSF1</th><th>BsmtFinType2</th><th>BsmtFinSF2</th><th>&hellip;</th><th>2ndFlrSF</th><th>LowQualFinSF</th><th>GrLivArea</th><th>BsmtFullBath</th><th>BsmtHalfBath</th><th>FullBath</th><th>HalfBath</th><th>BedroomAbvGr</th><th>KitchenAbvGr</th><th>KitchenQual</th><th>TotRmsAbvGrd</th><th>Functional</th><th>Fireplaces</th><th>FireplaceQu</th><th>GarageType</th><th>GarageYrBlt</th><th>GarageFinish</th><th>GarageCars</th><th>GarageArea</th><th>GarageQual</th><th>GarageCond</th><th>PavedDrive</th><th>WoodDeckSF</th><th>OpenPorchSF</th><th>EnclosedPorch</th><th>3SsnPorch</th><th>ScreenPorch</th><th>PoolArea</th><th>PoolQC</th><th>Fence</th><th>MiscFeature</th><th>MiscVal</th><th>MoSold</th><th>YrSold</th><th>SaleType</th><th>SaleCondition</th><th>SalePrice</th></tr><tr><td>i64</td><td>i64</td><td>str</td><td>str</td><td>i64</td><td>str</td><td>str</td><td>str</td><td>str</td><td>str</td><td>str</td><td>str</td><td>str</td><td>str</td><td>str</td><td>str</td><td>str</td><td>i64</td><td>i64</td><td>i64</td><td>i64</td><td>str</td><td>str</td><td>str</td><td>str</td><td>str</td><td>str</td><td>str</td><td>str</td><td>str</td><td>str</td><td>str</td><td>str</td><td>str</td><td>i64</td><td>str</td><td>i64</td><td>&hellip;</td><td>i64</td><td>i64</td><td>i64</td><td>i64</td><td>i64</td><td>i64</td><td>i64</td><td>i64</td><td>i64</td><td>str</td><td>i64</td><td>str</td><td>i64</td><td>str</td><td>str</td><td>str</td><td>str</td><td>i64</td><td>i64</td><td>str</td><td>str</td><td>str</td><td>i64</td><td>i64</td><td>i64</td><td>i64</td><td>i64</td><td>i64</td><td>str</td><td>str</td><td>str</td><td>i64</td><td>i64</td><td>i64</td><td>str</td><td>str</td><td>i64</td></tr></thead><tbody><tr><td>1</td><td>60</td><td>&quot;RL&quot;</td><td>&quot;65&quot;</td><td>8450</td><td>&quot;Pave&quot;</td><td>&quot;NA&quot;</td><td>&quot;Reg&quot;</td><td>&quot;Lvl&quot;</td><td>&quot;AllPub&quot;</td><td>&quot;Inside&quot;</td><td>&quot;Gtl&quot;</td><td>&quot;CollgCr&quot;</td><td>&quot;Norm&quot;</td><td>&quot;Norm&quot;</td><td>&quot;1Fam&quot;</td><td>&quot;2Story&quot;</td><td>7</td><td>5</td><td>2003</td><td>2003</td><td>&quot;Gable&quot;</td><td>&quot;CompShg&quot;</td><td>&quot;VinylSd&quot;</td><td>&quot;VinylSd&quot;</td><td>&quot;BrkFace&quot;</td><td>&quot;196&quot;</td><td>&quot;Gd&quot;</td><td>&quot;TA&quot;</td><td>&quot;PConc&quot;</td><td>&quot;Gd&quot;</td><td>&quot;TA&quot;</td><td>&quot;No&quot;</td><td>&quot;GLQ&quot;</td><td>706</td><td>&quot;Unf&quot;</td><td>0</td><td>&hellip;</td><td>854</td><td>0</td><td>1710</td><td>1</td><td>0</td><td>2</td><td>1</td><td>3</td><td>1</td><td>&quot;Gd&quot;</td><td>8</td><td>&quot;Typ&quot;</td><td>0</td><td>&quot;NA&quot;</td><td>&quot;Attchd&quot;</td><td>&quot;2003&quot;</td><td>&quot;RFn&quot;</td><td>2</td><td>548</td><td>&quot;TA&quot;</td><td>&quot;TA&quot;</td><td>&quot;Y&quot;</td><td>0</td><td>61</td><td>0</td><td>0</td><td>0</td><td>0</td><td>&quot;NA&quot;</td><td>&quot;NA&quot;</td><td>&quot;NA&quot;</td><td>0</td><td>2</td><td>2008</td><td>&quot;WD&quot;</td><td>&quot;Normal&quot;</td><td>208500</td></tr><tr><td>2</td><td>20</td><td>&quot;RL&quot;</td><td>&quot;80&quot;</td><td>9600</td><td>&quot;Pave&quot;</td><td>&quot;NA&quot;</td><td>&quot;Reg&quot;</td><td>&quot;Lvl&quot;</td><td>&quot;AllPub&quot;</td><td>&quot;FR2&quot;</td><td>&quot;Gtl&quot;</td><td>&quot;Veenker&quot;</td><td>&quot;Feedr&quot;</td><td>&quot;Norm&quot;</td><td>&quot;1Fam&quot;</td><td>&quot;1Story&quot;</td><td>6</td><td>8</td><td>1976</td><td>1976</td><td>&quot;Gable&quot;</td><td>&quot;CompShg&quot;</td><td>&quot;MetalSd&quot;</td><td>&quot;MetalSd&quot;</td><td>&quot;None&quot;</td><td>&quot;0&quot;</td><td>&quot;TA&quot;</td><td>&quot;TA&quot;</td><td>&quot;CBlock&quot;</td><td>&quot;Gd&quot;</td><td>&quot;TA&quot;</td><td>&quot;Gd&quot;</td><td>&quot;ALQ&quot;</td><td>978</td><td>&quot;Unf&quot;</td><td>0</td><td>&hellip;</td><td>0</td><td>0</td><td>1262</td><td>0</td><td>1</td><td>2</td><td>0</td><td>3</td><td>1</td><td>&quot;TA&quot;</td><td>6</td><td>&quot;Typ&quot;</td><td>1</td><td>&quot;TA&quot;</td><td>&quot;Attchd&quot;</td><td>&quot;1976&quot;</td><td>&quot;RFn&quot;</td><td>2</td><td>460</td><td>&quot;TA&quot;</td><td>&quot;TA&quot;</td><td>&quot;Y&quot;</td><td>298</td><td>0</td><td>0</td><td>0</td><td>0</td><td>0</td><td>&quot;NA&quot;</td><td>&quot;NA&quot;</td><td>&quot;NA&quot;</td><td>0</td><td>5</td><td>2007</td><td>&quot;WD&quot;</td><td>&quot;Normal&quot;</td><td>181500</td></tr><tr><td>3</td><td>60</td><td>&quot;RL&quot;</td><td>&quot;68&quot;</td><td>11250</td><td>&quot;Pave&quot;</td><td>&quot;NA&quot;</td><td>&quot;IR1&quot;</td><td>&quot;Lvl&quot;</td><td>&quot;AllPub&quot;</td><td>&quot;Inside&quot;</td><td>&quot;Gtl&quot;</td><td>&quot;CollgCr&quot;</td><td>&quot;Norm&quot;</td><td>&quot;Norm&quot;</td><td>&quot;1Fam&quot;</td><td>&quot;2Story&quot;</td><td>7</td><td>5</td><td>2001</td><td>2002</td><td>&quot;Gable&quot;</td><td>&quot;CompShg&quot;</td><td>&quot;VinylSd&quot;</td><td>&quot;VinylSd&quot;</td><td>&quot;BrkFace&quot;</td><td>&quot;162&quot;</td><td>&quot;Gd&quot;</td><td>&quot;TA&quot;</td><td>&quot;PConc&quot;</td><td>&quot;Gd&quot;</td><td>&quot;TA&quot;</td><td>&quot;Mn&quot;</td><td>&quot;GLQ&quot;</td><td>486</td><td>&quot;Unf&quot;</td><td>0</td><td>&hellip;</td><td>866</td><td>0</td><td>1786</td><td>1</td><td>0</td><td>2</td><td>1</td><td>3</td><td>1</td><td>&quot;Gd&quot;</td><td>6</td><td>&quot;Typ&quot;</td><td>1</td><td>&quot;TA&quot;</td><td>&quot;Attchd&quot;</td><td>&quot;2001&quot;</td><td>&quot;RFn&quot;</td><td>2</td><td>608</td><td>&quot;TA&quot;</td><td>&quot;TA&quot;</td><td>&quot;Y&quot;</td><td>0</td><td>42</td><td>0</td><td>0</td><td>0</td><td>0</td><td>&quot;NA&quot;</td><td>&quot;NA&quot;</td><td>&quot;NA&quot;</td><td>0</td><td>9</td><td>2008</td><td>&quot;WD&quot;</td><td>&quot;Normal&quot;</td><td>223500</td></tr><tr><td>4</td><td>70</td><td>&quot;RL&quot;</td><td>&quot;60&quot;</td><td>9550</td><td>&quot;Pave&quot;</td><td>&quot;NA&quot;</td><td>&quot;IR1&quot;</td><td>&quot;Lvl&quot;</td><td>&quot;AllPub&quot;</td><td>&quot;Corner&quot;</td><td>&quot;Gtl&quot;</td><td>&quot;Crawfor&quot;</td><td>&quot;Norm&quot;</td><td>&quot;Norm&quot;</td><td>&quot;1Fam&quot;</td><td>&quot;2Story&quot;</td><td>7</td><td>5</td><td>1915</td><td>1970</td><td>&quot;Gable&quot;</td><td>&quot;CompShg&quot;</td><td>&quot;Wd Sdng&quot;</td><td>&quot;Wd Shng&quot;</td><td>&quot;None&quot;</td><td>&quot;0&quot;</td><td>&quot;TA&quot;</td><td>&quot;TA&quot;</td><td>&quot;BrkTil&quot;</td><td>&quot;TA&quot;</td><td>&quot;Gd&quot;</td><td>&quot;No&quot;</td><td>&quot;ALQ&quot;</td><td>216</td><td>&quot;Unf&quot;</td><td>0</td><td>&hellip;</td><td>756</td><td>0</td><td>1717</td><td>1</td><td>0</td><td>1</td><td>0</td><td>3</td><td>1</td><td>&quot;Gd&quot;</td><td>7</td><td>&quot;Typ&quot;</td><td>1</td><td>&quot;Gd&quot;</td><td>&quot;Detchd&quot;</td><td>&quot;1998&quot;</td><td>&quot;Unf&quot;</td><td>3</td><td>642</td><td>&quot;TA&quot;</td><td>&quot;TA&quot;</td><td>&quot;Y&quot;</td><td>0</td><td>35</td><td>272</td><td>0</td><td>0</td><td>0</td><td>&quot;NA&quot;</td><td>&quot;NA&quot;</td><td>&quot;NA&quot;</td><td>0</td><td>2</td><td>2006</td><td>&quot;WD&quot;</td><td>&quot;Abnorml&quot;</td><td>140000</td></tr><tr><td>5</td><td>60</td><td>&quot;RL&quot;</td><td>&quot;84&quot;</td><td>14260</td><td>&quot;Pave&quot;</td><td>&quot;NA&quot;</td><td>&quot;IR1&quot;</td><td>&quot;Lvl&quot;</td><td>&quot;AllPub&quot;</td><td>&quot;FR2&quot;</td><td>&quot;Gtl&quot;</td><td>&quot;NoRidge&quot;</td><td>&quot;Norm&quot;</td><td>&quot;Norm&quot;</td><td>&quot;1Fam&quot;</td><td>&quot;2Story&quot;</td><td>8</td><td>5</td><td>2000</td><td>2000</td><td>&quot;Gable&quot;</td><td>&quot;CompShg&quot;</td><td>&quot;VinylSd&quot;</td><td>&quot;VinylSd&quot;</td><td>&quot;BrkFace&quot;</td><td>&quot;350&quot;</td><td>&quot;Gd&quot;</td><td>&quot;TA&quot;</td><td>&quot;PConc&quot;</td><td>&quot;Gd&quot;</td><td>&quot;TA&quot;</td><td>&quot;Av&quot;</td><td>&quot;GLQ&quot;</td><td>655</td><td>&quot;Unf&quot;</td><td>0</td><td>&hellip;</td><td>1053</td><td>0</td><td>2198</td><td>1</td><td>0</td><td>2</td><td>1</td><td>4</td><td>1</td><td>&quot;Gd&quot;</td><td>9</td><td>&quot;Typ&quot;</td><td>1</td><td>&quot;TA&quot;</td><td>&quot;Attchd&quot;</td><td>&quot;2000&quot;</td><td>&quot;RFn&quot;</td><td>3</td><td>836</td><td>&quot;TA&quot;</td><td>&quot;TA&quot;</td><td>&quot;Y&quot;</td><td>192</td><td>84</td><td>0</td><td>0</td><td>0</td><td>0</td><td>&quot;NA&quot;</td><td>&quot;NA&quot;</td><td>&quot;NA&quot;</td><td>0</td><td>12</td><td>2008</td><td>&quot;WD&quot;</td><td>&quot;Normal&quot;</td><td>250000</td></tr></tbody></table></div>"
      ],
      "text/plain": [
       "shape: (5, 81)\n",
       "┌─────┬────────────┬──────────┬─────────────┬───┬────────┬──────────┬───────────────┬───────────┐\n",
       "│ Id  ┆ MSSubClass ┆ MSZoning ┆ LotFrontage ┆ … ┆ YrSold ┆ SaleType ┆ SaleCondition ┆ SalePrice │\n",
       "│ --- ┆ ---        ┆ ---      ┆ ---         ┆   ┆ ---    ┆ ---      ┆ ---           ┆ ---       │\n",
       "│ i64 ┆ i64        ┆ str      ┆ str         ┆   ┆ i64    ┆ str      ┆ str           ┆ i64       │\n",
       "╞═════╪════════════╪══════════╪═════════════╪═══╪════════╪══════════╪═══════════════╪═══════════╡\n",
       "│ 1   ┆ 60         ┆ RL       ┆ 65          ┆ … ┆ 2008   ┆ WD       ┆ Normal        ┆ 208500    │\n",
       "│ 2   ┆ 20         ┆ RL       ┆ 80          ┆ … ┆ 2007   ┆ WD       ┆ Normal        ┆ 181500    │\n",
       "│ 3   ┆ 60         ┆ RL       ┆ 68          ┆ … ┆ 2008   ┆ WD       ┆ Normal        ┆ 223500    │\n",
       "│ 4   ┆ 70         ┆ RL       ┆ 60          ┆ … ┆ 2006   ┆ WD       ┆ Abnorml       ┆ 140000    │\n",
       "│ 5   ┆ 60         ┆ RL       ┆ 84          ┆ … ┆ 2008   ┆ WD       ┆ Normal        ┆ 250000    │\n",
       "└─────┴────────────┴──────────┴─────────────┴───┴────────┴──────────┴───────────────┴───────────┘"
      ]
     },
     "metadata": {},
     "output_type": "display_data"
    }
   ],
   "source": [
    "# filetr\n",
    "display(train_df.filter(pl.col(\"MSSubClass\") == 20).head(1))\n",
    "\n",
    "# 複数条件でfilter\n",
    "display(train_df.filter((pl.col(\"MSSubClass\") == 20) & (pl.col(\"MSZoning\") == \"RL\")).head(1))\n",
    "display(train_df.filter((pl.col(\"MSSubClass\") == 20) | (pl.col(\"MSZoning\") == \"RL\")).head(1))\n",
    "\n",
    "# sliceで複数行を取得\n",
    "display(train_df.slice(offset=0, length=5))\n",
    "display(train_df[0:5])\n"
   ]
  },
  {
   "cell_type": "code",
   "execution_count": 30,
   "metadata": {},
   "outputs": [
    {
     "data": {
      "text/html": [
       "<div><style>\n",
       ".dataframe > thead > tr,\n",
       ".dataframe > tbody > tr {\n",
       "  text-align: right;\n",
       "  white-space: pre-wrap;\n",
       "}\n",
       "</style>\n",
       "<small>shape: (1, 81)</small><table border=\"1\" class=\"dataframe\"><thead><tr><th>Id</th><th>MSSubClass</th><th>MSZoning</th><th>LotFrontage</th><th>LotArea</th><th>Street</th><th>Alley</th><th>LotShape</th><th>LandContour</th><th>Utilities</th><th>LotConfig</th><th>LandSlope</th><th>Neighborhood</th><th>Condition1</th><th>Condition2</th><th>BldgType</th><th>HouseStyle</th><th>OverallQual</th><th>OverallCond</th><th>YearBuilt</th><th>YearRemodAdd</th><th>RoofStyle</th><th>RoofMatl</th><th>Exterior1st</th><th>Exterior2nd</th><th>MasVnrType</th><th>MasVnrArea</th><th>ExterQual</th><th>ExterCond</th><th>Foundation</th><th>BsmtQual</th><th>BsmtCond</th><th>BsmtExposure</th><th>BsmtFinType1</th><th>BsmtFinSF1</th><th>BsmtFinType2</th><th>BsmtFinSF2</th><th>&hellip;</th><th>2ndFlrSF</th><th>LowQualFinSF</th><th>GrLivArea</th><th>BsmtFullBath</th><th>BsmtHalfBath</th><th>FullBath</th><th>HalfBath</th><th>BedroomAbvGr</th><th>KitchenAbvGr</th><th>KitchenQual</th><th>TotRmsAbvGrd</th><th>Functional</th><th>Fireplaces</th><th>FireplaceQu</th><th>GarageType</th><th>GarageYrBlt</th><th>GarageFinish</th><th>GarageCars</th><th>GarageArea</th><th>GarageQual</th><th>GarageCond</th><th>PavedDrive</th><th>WoodDeckSF</th><th>OpenPorchSF</th><th>EnclosedPorch</th><th>3SsnPorch</th><th>ScreenPorch</th><th>PoolArea</th><th>PoolQC</th><th>Fence</th><th>MiscFeature</th><th>MiscVal</th><th>MoSold</th><th>YrSold</th><th>SaleType</th><th>SaleCondition</th><th>SalePrice</th></tr><tr><td>i64</td><td>i64</td><td>str</td><td>str</td><td>i64</td><td>str</td><td>str</td><td>str</td><td>str</td><td>str</td><td>str</td><td>str</td><td>str</td><td>str</td><td>str</td><td>str</td><td>str</td><td>i64</td><td>i64</td><td>i64</td><td>i64</td><td>str</td><td>str</td><td>str</td><td>str</td><td>str</td><td>str</td><td>str</td><td>str</td><td>str</td><td>str</td><td>str</td><td>str</td><td>str</td><td>i64</td><td>str</td><td>i64</td><td>&hellip;</td><td>i64</td><td>i64</td><td>i64</td><td>i64</td><td>i64</td><td>i64</td><td>i64</td><td>i64</td><td>i64</td><td>str</td><td>i64</td><td>str</td><td>i64</td><td>str</td><td>str</td><td>str</td><td>str</td><td>i64</td><td>i64</td><td>str</td><td>str</td><td>str</td><td>i64</td><td>i64</td><td>i64</td><td>i64</td><td>i64</td><td>i64</td><td>str</td><td>str</td><td>str</td><td>i64</td><td>i64</td><td>i64</td><td>str</td><td>str</td><td>i64</td></tr></thead><tbody><tr><td>2</td><td>20</td><td>&quot;RL&quot;</td><td>&quot;80&quot;</td><td>9600</td><td>&quot;Pave&quot;</td><td>&quot;NA&quot;</td><td>&quot;Reg&quot;</td><td>&quot;Lvl&quot;</td><td>&quot;AllPub&quot;</td><td>&quot;FR2&quot;</td><td>&quot;Gtl&quot;</td><td>&quot;Veenker&quot;</td><td>&quot;Feedr&quot;</td><td>&quot;Norm&quot;</td><td>&quot;1Fam&quot;</td><td>&quot;1Story&quot;</td><td>6</td><td>8</td><td>1976</td><td>1976</td><td>&quot;Gable&quot;</td><td>&quot;CompShg&quot;</td><td>&quot;MetalSd&quot;</td><td>&quot;MetalSd&quot;</td><td>&quot;None&quot;</td><td>&quot;0&quot;</td><td>&quot;TA&quot;</td><td>&quot;TA&quot;</td><td>&quot;CBlock&quot;</td><td>&quot;Gd&quot;</td><td>&quot;TA&quot;</td><td>&quot;Gd&quot;</td><td>&quot;ALQ&quot;</td><td>978</td><td>&quot;Unf&quot;</td><td>0</td><td>&hellip;</td><td>0</td><td>0</td><td>1262</td><td>0</td><td>1</td><td>2</td><td>0</td><td>3</td><td>1</td><td>&quot;TA&quot;</td><td>6</td><td>&quot;Typ&quot;</td><td>1</td><td>&quot;TA&quot;</td><td>&quot;Attchd&quot;</td><td>&quot;1976&quot;</td><td>&quot;RFn&quot;</td><td>2</td><td>460</td><td>&quot;TA&quot;</td><td>&quot;TA&quot;</td><td>&quot;Y&quot;</td><td>298</td><td>0</td><td>0</td><td>0</td><td>0</td><td>0</td><td>&quot;NA&quot;</td><td>&quot;NA&quot;</td><td>&quot;NA&quot;</td><td>0</td><td>5</td><td>2007</td><td>&quot;WD&quot;</td><td>&quot;Normal&quot;</td><td>181500</td></tr></tbody></table></div>"
      ],
      "text/plain": [
       "shape: (1, 81)\n",
       "┌─────┬────────────┬──────────┬─────────────┬───┬────────┬──────────┬───────────────┬───────────┐\n",
       "│ Id  ┆ MSSubClass ┆ MSZoning ┆ LotFrontage ┆ … ┆ YrSold ┆ SaleType ┆ SaleCondition ┆ SalePrice │\n",
       "│ --- ┆ ---        ┆ ---      ┆ ---         ┆   ┆ ---    ┆ ---      ┆ ---           ┆ ---       │\n",
       "│ i64 ┆ i64        ┆ str      ┆ str         ┆   ┆ i64    ┆ str      ┆ str           ┆ i64       │\n",
       "╞═════╪════════════╪══════════╪═════════════╪═══╪════════╪══════════╪═══════════════╪═══════════╡\n",
       "│ 2   ┆ 20         ┆ RL       ┆ 80          ┆ … ┆ 2007   ┆ WD       ┆ Normal        ┆ 181500    │\n",
       "└─────┴────────────┴──────────┴─────────────┴───┴────────┴──────────┴───────────────┴───────────┘"
      ]
     },
     "metadata": {},
     "output_type": "display_data"
    },
    {
     "data": {
      "text/html": [
       "<div><style>\n",
       ".dataframe > thead > tr,\n",
       ".dataframe > tbody > tr {\n",
       "  text-align: right;\n",
       "  white-space: pre-wrap;\n",
       "}\n",
       "</style>\n",
       "<small>shape: (1, 81)</small><table border=\"1\" class=\"dataframe\"><thead><tr><th>Id</th><th>MSSubClass</th><th>MSZoning</th><th>LotFrontage</th><th>LotArea</th><th>Street</th><th>Alley</th><th>LotShape</th><th>LandContour</th><th>Utilities</th><th>LotConfig</th><th>LandSlope</th><th>Neighborhood</th><th>Condition1</th><th>Condition2</th><th>BldgType</th><th>HouseStyle</th><th>OverallQual</th><th>OverallCond</th><th>YearBuilt</th><th>YearRemodAdd</th><th>RoofStyle</th><th>RoofMatl</th><th>Exterior1st</th><th>Exterior2nd</th><th>MasVnrType</th><th>MasVnrArea</th><th>ExterQual</th><th>ExterCond</th><th>Foundation</th><th>BsmtQual</th><th>BsmtCond</th><th>BsmtExposure</th><th>BsmtFinType1</th><th>BsmtFinSF1</th><th>BsmtFinType2</th><th>BsmtFinSF2</th><th>&hellip;</th><th>2ndFlrSF</th><th>LowQualFinSF</th><th>GrLivArea</th><th>BsmtFullBath</th><th>BsmtHalfBath</th><th>FullBath</th><th>HalfBath</th><th>BedroomAbvGr</th><th>KitchenAbvGr</th><th>KitchenQual</th><th>TotRmsAbvGrd</th><th>Functional</th><th>Fireplaces</th><th>FireplaceQu</th><th>GarageType</th><th>GarageYrBlt</th><th>GarageFinish</th><th>GarageCars</th><th>GarageArea</th><th>GarageQual</th><th>GarageCond</th><th>PavedDrive</th><th>WoodDeckSF</th><th>OpenPorchSF</th><th>EnclosedPorch</th><th>3SsnPorch</th><th>ScreenPorch</th><th>PoolArea</th><th>PoolQC</th><th>Fence</th><th>MiscFeature</th><th>MiscVal</th><th>MoSold</th><th>YrSold</th><th>SaleType</th><th>SaleCondition</th><th>SalePrice</th></tr><tr><td>i64</td><td>i64</td><td>str</td><td>str</td><td>i64</td><td>str</td><td>str</td><td>str</td><td>str</td><td>str</td><td>str</td><td>str</td><td>str</td><td>str</td><td>str</td><td>str</td><td>str</td><td>i64</td><td>i64</td><td>i64</td><td>i64</td><td>str</td><td>str</td><td>str</td><td>str</td><td>str</td><td>str</td><td>str</td><td>str</td><td>str</td><td>str</td><td>str</td><td>str</td><td>str</td><td>i64</td><td>str</td><td>i64</td><td>&hellip;</td><td>i64</td><td>i64</td><td>i64</td><td>i64</td><td>i64</td><td>i64</td><td>i64</td><td>i64</td><td>i64</td><td>str</td><td>i64</td><td>str</td><td>i64</td><td>str</td><td>str</td><td>str</td><td>str</td><td>i64</td><td>i64</td><td>str</td><td>str</td><td>str</td><td>i64</td><td>i64</td><td>i64</td><td>i64</td><td>i64</td><td>i64</td><td>str</td><td>str</td><td>str</td><td>i64</td><td>i64</td><td>i64</td><td>str</td><td>str</td><td>i64</td></tr></thead><tbody><tr><td>10</td><td>190</td><td>&quot;RL&quot;</td><td>&quot;50&quot;</td><td>7420</td><td>&quot;Pave&quot;</td><td>&quot;NA&quot;</td><td>&quot;Reg&quot;</td><td>&quot;Lvl&quot;</td><td>&quot;AllPub&quot;</td><td>&quot;Corner&quot;</td><td>&quot;Gtl&quot;</td><td>&quot;BrkSide&quot;</td><td>&quot;Artery&quot;</td><td>&quot;Artery&quot;</td><td>&quot;2fmCon&quot;</td><td>&quot;1.5Unf&quot;</td><td>5</td><td>6</td><td>1939</td><td>1950</td><td>&quot;Gable&quot;</td><td>&quot;CompShg&quot;</td><td>&quot;MetalSd&quot;</td><td>&quot;MetalSd&quot;</td><td>&quot;None&quot;</td><td>&quot;0&quot;</td><td>&quot;TA&quot;</td><td>&quot;TA&quot;</td><td>&quot;BrkTil&quot;</td><td>&quot;TA&quot;</td><td>&quot;TA&quot;</td><td>&quot;No&quot;</td><td>&quot;GLQ&quot;</td><td>851</td><td>&quot;Unf&quot;</td><td>0</td><td>&hellip;</td><td>0</td><td>0</td><td>1077</td><td>1</td><td>0</td><td>1</td><td>0</td><td>2</td><td>2</td><td>&quot;TA&quot;</td><td>5</td><td>&quot;Typ&quot;</td><td>2</td><td>&quot;TA&quot;</td><td>&quot;Attchd&quot;</td><td>&quot;1939&quot;</td><td>&quot;RFn&quot;</td><td>1</td><td>205</td><td>&quot;Gd&quot;</td><td>&quot;TA&quot;</td><td>&quot;Y&quot;</td><td>0</td><td>4</td><td>0</td><td>0</td><td>0</td><td>0</td><td>&quot;NA&quot;</td><td>&quot;NA&quot;</td><td>&quot;NA&quot;</td><td>0</td><td>1</td><td>2008</td><td>&quot;WD&quot;</td><td>&quot;Normal&quot;</td><td>118000</td></tr></tbody></table></div>"
      ],
      "text/plain": [
       "shape: (1, 81)\n",
       "┌─────┬────────────┬──────────┬─────────────┬───┬────────┬──────────┬───────────────┬───────────┐\n",
       "│ Id  ┆ MSSubClass ┆ MSZoning ┆ LotFrontage ┆ … ┆ YrSold ┆ SaleType ┆ SaleCondition ┆ SalePrice │\n",
       "│ --- ┆ ---        ┆ ---      ┆ ---         ┆   ┆ ---    ┆ ---      ┆ ---           ┆ ---       │\n",
       "│ i64 ┆ i64        ┆ str      ┆ str         ┆   ┆ i64    ┆ str      ┆ str           ┆ i64       │\n",
       "╞═════╪════════════╪══════════╪═════════════╪═══╪════════╪══════════╪═══════════════╪═══════════╡\n",
       "│ 10  ┆ 190        ┆ RL       ┆ 50          ┆ … ┆ 2008   ┆ WD       ┆ Normal        ┆ 118000    │\n",
       "└─────┴────────────┴──────────┴─────────────┴───┴────────┴──────────┴───────────────┴───────────┘"
      ]
     },
     "metadata": {},
     "output_type": "display_data"
    },
    {
     "data": {
      "text/html": [
       "<div><style>\n",
       ".dataframe > thead > tr,\n",
       ".dataframe > tbody > tr {\n",
       "  text-align: right;\n",
       "  white-space: pre-wrap;\n",
       "}\n",
       "</style>\n",
       "<small>shape: (1, 81)</small><table border=\"1\" class=\"dataframe\"><thead><tr><th>Id</th><th>MSSubClass</th><th>MSZoning</th><th>LotFrontage</th><th>LotArea</th><th>Street</th><th>Alley</th><th>LotShape</th><th>LandContour</th><th>Utilities</th><th>LotConfig</th><th>LandSlope</th><th>Neighborhood</th><th>Condition1</th><th>Condition2</th><th>BldgType</th><th>HouseStyle</th><th>OverallQual</th><th>OverallCond</th><th>YearBuilt</th><th>YearRemodAdd</th><th>RoofStyle</th><th>RoofMatl</th><th>Exterior1st</th><th>Exterior2nd</th><th>MasVnrType</th><th>MasVnrArea</th><th>ExterQual</th><th>ExterCond</th><th>Foundation</th><th>BsmtQual</th><th>BsmtCond</th><th>BsmtExposure</th><th>BsmtFinType1</th><th>BsmtFinSF1</th><th>BsmtFinType2</th><th>BsmtFinSF2</th><th>&hellip;</th><th>2ndFlrSF</th><th>LowQualFinSF</th><th>GrLivArea</th><th>BsmtFullBath</th><th>BsmtHalfBath</th><th>FullBath</th><th>HalfBath</th><th>BedroomAbvGr</th><th>KitchenAbvGr</th><th>KitchenQual</th><th>TotRmsAbvGrd</th><th>Functional</th><th>Fireplaces</th><th>FireplaceQu</th><th>GarageType</th><th>GarageYrBlt</th><th>GarageFinish</th><th>GarageCars</th><th>GarageArea</th><th>GarageQual</th><th>GarageCond</th><th>PavedDrive</th><th>WoodDeckSF</th><th>OpenPorchSF</th><th>EnclosedPorch</th><th>3SsnPorch</th><th>ScreenPorch</th><th>PoolArea</th><th>PoolQC</th><th>Fence</th><th>MiscFeature</th><th>MiscVal</th><th>MoSold</th><th>YrSold</th><th>SaleType</th><th>SaleCondition</th><th>SalePrice</th></tr><tr><td>i64</td><td>i64</td><td>str</td><td>str</td><td>i64</td><td>str</td><td>str</td><td>str</td><td>str</td><td>str</td><td>str</td><td>str</td><td>str</td><td>str</td><td>str</td><td>str</td><td>str</td><td>i64</td><td>i64</td><td>i64</td><td>i64</td><td>str</td><td>str</td><td>str</td><td>str</td><td>str</td><td>str</td><td>str</td><td>str</td><td>str</td><td>str</td><td>str</td><td>str</td><td>str</td><td>i64</td><td>str</td><td>i64</td><td>&hellip;</td><td>i64</td><td>i64</td><td>i64</td><td>i64</td><td>i64</td><td>i64</td><td>i64</td><td>i64</td><td>i64</td><td>str</td><td>i64</td><td>str</td><td>i64</td><td>str</td><td>str</td><td>str</td><td>str</td><td>i64</td><td>i64</td><td>str</td><td>str</td><td>str</td><td>i64</td><td>i64</td><td>i64</td><td>i64</td><td>i64</td><td>i64</td><td>str</td><td>str</td><td>str</td><td>i64</td><td>i64</td><td>i64</td><td>str</td><td>str</td><td>i64</td></tr></thead><tbody><tr><td>94</td><td>190</td><td>&quot;C (all)&quot;</td><td>&quot;60&quot;</td><td>7200</td><td>&quot;Pave&quot;</td><td>&quot;NA&quot;</td><td>&quot;Reg&quot;</td><td>&quot;Lvl&quot;</td><td>&quot;AllPub&quot;</td><td>&quot;Corner&quot;</td><td>&quot;Gtl&quot;</td><td>&quot;OldTown&quot;</td><td>&quot;Norm&quot;</td><td>&quot;Norm&quot;</td><td>&quot;2fmCon&quot;</td><td>&quot;2.5Unf&quot;</td><td>6</td><td>6</td><td>1910</td><td>1998</td><td>&quot;Hip&quot;</td><td>&quot;CompShg&quot;</td><td>&quot;MetalSd&quot;</td><td>&quot;MetalSd&quot;</td><td>&quot;None&quot;</td><td>&quot;0&quot;</td><td>&quot;TA&quot;</td><td>&quot;TA&quot;</td><td>&quot;BrkTil&quot;</td><td>&quot;TA&quot;</td><td>&quot;Fa&quot;</td><td>&quot;Mn&quot;</td><td>&quot;Rec&quot;</td><td>1046</td><td>&quot;Unf&quot;</td><td>0</td><td>&hellip;</td><td>1031</td><td>0</td><td>2291</td><td>0</td><td>1</td><td>2</td><td>0</td><td>4</td><td>2</td><td>&quot;TA&quot;</td><td>9</td><td>&quot;Typ&quot;</td><td>1</td><td>&quot;Gd&quot;</td><td>&quot;Detchd&quot;</td><td>&quot;1900&quot;</td><td>&quot;Unf&quot;</td><td>2</td><td>506</td><td>&quot;TA&quot;</td><td>&quot;TA&quot;</td><td>&quot;Y&quot;</td><td>0</td><td>0</td><td>0</td><td>0</td><td>99</td><td>0</td><td>&quot;NA&quot;</td><td>&quot;NA&quot;</td><td>&quot;NA&quot;</td><td>0</td><td>11</td><td>2007</td><td>&quot;WD&quot;</td><td>&quot;Normal&quot;</td><td>133900</td></tr></tbody></table></div>"
      ],
      "text/plain": [
       "shape: (1, 81)\n",
       "┌─────┬────────────┬──────────┬─────────────┬───┬────────┬──────────┬───────────────┬───────────┐\n",
       "│ Id  ┆ MSSubClass ┆ MSZoning ┆ LotFrontage ┆ … ┆ YrSold ┆ SaleType ┆ SaleCondition ┆ SalePrice │\n",
       "│ --- ┆ ---        ┆ ---      ┆ ---         ┆   ┆ ---    ┆ ---      ┆ ---           ┆ ---       │\n",
       "│ i64 ┆ i64        ┆ str      ┆ str         ┆   ┆ i64    ┆ str      ┆ str           ┆ i64       │\n",
       "╞═════╪════════════╪══════════╪═════════════╪═══╪════════╪══════════╪═══════════════╪═══════════╡\n",
       "│ 94  ┆ 190        ┆ C (all)  ┆ 60          ┆ … ┆ 2007   ┆ WD       ┆ Normal        ┆ 133900    │\n",
       "└─────┴────────────┴──────────┴─────────────┴───┴────────┴──────────┴───────────────┴───────────┘"
      ]
     },
     "metadata": {},
     "output_type": "display_data"
    }
   ],
   "source": [
    "# sort\n",
    "display(train_df.sort(\"MSSubClass\").head(1))\n",
    "# 降順\n",
    "display(train_df.sort(\"MSSubClass\", descending=True).head(1))\n",
    "# 複数\n",
    "display(train_df.sort([\"MSSubClass\", \"MSZoning\"], descending=[True, False]).head(1))\n"
   ]
  },
  {
   "cell_type": "markdown",
   "metadata": {},
   "source": [
    "### 列の追加・変更\n",
    "`with_columns` : 新しい列を追加したり、既存の列を変更する\n",
    "* `pl.when` : 条件分岐を行う\n",
    "* `pl.when().then().otherwise()` : 条件分岐を行う\n",
    "\n",
    "* `cast` : 列の型を変更する\n",
    "* `alias` : 列の名前を変更する\n",
    "* `fill_null` : nullを特定の値で埋める\n",
    "* `fill_nan` : NaNを特定の値で埋める\n",
    "\n",
    "\n",
    "`map_elements` : 各要素に対して関数を適用する"
   ]
  },
  {
   "cell_type": "code",
   "execution_count": 59,
   "metadata": {},
   "outputs": [
    {
     "data": {
      "text/html": [
       "<div><style>\n",
       ".dataframe > thead > tr,\n",
       ".dataframe > tbody > tr {\n",
       "  text-align: right;\n",
       "  white-space: pre-wrap;\n",
       "}\n",
       "</style>\n",
       "<small>shape: (1_460, 1)</small><table border=\"1\" class=\"dataframe\"><thead><tr><th>HouseAge</th></tr><tr><td>i64</td></tr></thead><tbody><tr><td>-6004</td></tr><tr><td>-5897</td></tr><tr><td>-5996</td></tr><tr><td>-5654</td></tr><tr><td>-5992</td></tr><tr><td>&hellip;</td></tr><tr><td>-5989</td></tr><tr><td>-5902</td></tr><tr><td>-5754</td></tr><tr><td>-5790</td></tr><tr><td>-5852</td></tr></tbody></table></div>"
      ],
      "text/plain": [
       "shape: (1_460, 1)\n",
       "┌──────────┐\n",
       "│ HouseAge │\n",
       "│ ---      │\n",
       "│ i64      │\n",
       "╞══════════╡\n",
       "│ -6004    │\n",
       "│ -5897    │\n",
       "│ -5996    │\n",
       "│ -5654    │\n",
       "│ -5992    │\n",
       "│ …        │\n",
       "│ -5989    │\n",
       "│ -5902    │\n",
       "│ -5754    │\n",
       "│ -5790    │\n",
       "│ -5852    │\n",
       "└──────────┘"
      ]
     },
     "execution_count": 59,
     "metadata": {},
     "output_type": "execute_result"
    }
   ],
   "source": [
    "train_df = train_df.with_columns((pl.col(\"YrSold\") - pl.col(\"YearBuilt\")).alias(\"HouseAge\"))\n"
   ]
  },
  {
   "cell_type": "code",
   "execution_count": 33,
   "metadata": {},
   "outputs": [
    {
     "data": {
      "text/html": [
       "<div><style>\n",
       ".dataframe > thead > tr,\n",
       ".dataframe > tbody > tr {\n",
       "  text-align: right;\n",
       "  white-space: pre-wrap;\n",
       "}\n",
       "</style>\n",
       "<small>shape: (5, 1)</small><table border=\"1\" class=\"dataframe\"><thead><tr><th>HouseAgeCategory</th></tr><tr><td>str</td></tr></thead><tbody><tr><td>&quot;New&quot;</td></tr><tr><td>&quot;Old&quot;</td></tr><tr><td>&quot;New&quot;</td></tr><tr><td>&quot;Old&quot;</td></tr><tr><td>&quot;New&quot;</td></tr></tbody></table></div>"
      ],
      "text/plain": [
       "shape: (5, 1)\n",
       "┌──────────────────┐\n",
       "│ HouseAgeCategory │\n",
       "│ ---              │\n",
       "│ str              │\n",
       "╞══════════════════╡\n",
       "│ New              │\n",
       "│ Old              │\n",
       "│ New              │\n",
       "│ Old              │\n",
       "│ New              │\n",
       "└──────────────────┘"
      ]
     },
     "metadata": {},
     "output_type": "display_data"
    }
   ],
   "source": [
    "# pl.col(\"YrSold\") - pl.col(\"YearBuilt\"): 売り出し年 - 建築年 = 築年数によって\n",
    "train_df = train_df.with_columns(\n",
    "    pl.when((pl.col(\"YrSold\") - pl.col(\"YearBuilt\")) <= 10)\n",
    "    .then(pl.lit(\"New\"))\n",
    "    .when((pl.col(\"YrSold\") - pl.col(\"YearBuilt\")) <= 30)\n",
    "    .then(pl.lit(\"Mid\"))\n",
    "    .otherwise(pl.lit(\"Old\"))\n",
    "    .alias(\"HouseAgeCategory\")\n",
    ")\n",
    "\n",
    "display(train_df.select(\"HouseAgeCategory\").head())\n"
   ]
  },
  {
   "cell_type": "markdown",
   "metadata": {},
   "source": [
    "### 集約処理\n",
    "`group_by` : 特定の列でグループ化する\n",
    "* `agg` : 集約関数を適用する\n",
    "  * `sum` : 合計\n",
    "  *  `mean` : 平均\n",
    "  *  `min` : 最小値\n",
    "  *  `max` : 最大値\n",
    "  *  `count` : カウント\n",
    "  *  `first` : 最初の値\n",
    "  *  `last` : 最後の値\n",
    "  *  `median` : 中央値\n",
    "  *  `std` : 標準偏差\n",
    "  *  `var` : 分散\n",
    "  *  `quantile` : 分位数\n",
    "  *  `n_unique` : ユニークな値の数"
   ]
  },
  {
   "cell_type": "code",
   "execution_count": 62,
   "metadata": {},
   "outputs": [
    {
     "data": {
      "text/html": [
       "<div><style>\n",
       ".dataframe > thead > tr,\n",
       ".dataframe > tbody > tr {\n",
       "  text-align: right;\n",
       "  white-space: pre-wrap;\n",
       "}\n",
       "</style>\n",
       "<small>shape: (5, 7)</small><table border=\"1\" class=\"dataframe\"><thead><tr><th>BsmtQual</th><th>SalePrice_mean</th><th>SalePrice_std</th><th>SalePrice_min</th><th>SalePrice_max</th><th>SalePrice_count</th><th>SalePrice_sum</th></tr><tr><td>str</td><td>f64</td><td>f64</td><td>i64</td><td>i64</td><td>u32</td><td>i64</td></tr></thead><tbody><tr><td>&quot;NA&quot;</td><td>105652.891892</td><td>29278.694797</td><td>39300</td><td>198500</td><td>37</td><td>3909157</td></tr><tr><td>&quot;Fa&quot;</td><td>115692.028571</td><td>34469.667278</td><td>61000</td><td>206900</td><td>35</td><td>4049221</td></tr><tr><td>&quot;TA&quot;</td><td>140759.818182</td><td>43483.265311</td><td>34900</td><td>475000</td><td>649</td><td>91353122</td></tr><tr><td>&quot;Gd&quot;</td><td>202688.478964</td><td>58092.364284</td><td>75500</td><td>538000</td><td>618</td><td>125261480</td></tr><tr><td>&quot;Ex&quot;</td><td>327041.041322</td><td>113563.237392</td><td>123500</td><td>755000</td><td>121</td><td>39571966</td></tr></tbody></table></div>"
      ],
      "text/plain": [
       "shape: (5, 7)\n",
       "┌──────────┬──────────────┬──────────────┬──────────────┬──────────────┬─────────────┬─────────────┐\n",
       "│ BsmtQual ┆ SalePrice_me ┆ SalePrice_st ┆ SalePrice_mi ┆ SalePrice_ma ┆ SalePrice_c ┆ SalePrice_s │\n",
       "│ ---      ┆ an           ┆ d            ┆ n            ┆ x            ┆ ount        ┆ um          │\n",
       "│ str      ┆ ---          ┆ ---          ┆ ---          ┆ ---          ┆ ---         ┆ ---         │\n",
       "│          ┆ f64          ┆ f64          ┆ i64          ┆ i64          ┆ u32         ┆ i64         │\n",
       "╞══════════╪══════════════╪══════════════╪══════════════╪══════════════╪═════════════╪═════════════╡\n",
       "│ NA       ┆ 105652.89189 ┆ 29278.694797 ┆ 39300        ┆ 198500       ┆ 37          ┆ 3909157     │\n",
       "│          ┆ 2            ┆              ┆              ┆              ┆             ┆             │\n",
       "│ Fa       ┆ 115692.02857 ┆ 34469.667278 ┆ 61000        ┆ 206900       ┆ 35          ┆ 4049221     │\n",
       "│          ┆ 1            ┆              ┆              ┆              ┆             ┆             │\n",
       "│ TA       ┆ 140759.81818 ┆ 43483.265311 ┆ 34900        ┆ 475000       ┆ 649         ┆ 91353122    │\n",
       "│          ┆ 2            ┆              ┆              ┆              ┆             ┆             │\n",
       "│ Gd       ┆ 202688.47896 ┆ 58092.364284 ┆ 75500        ┆ 538000       ┆ 618         ┆ 125261480   │\n",
       "│          ┆ 4            ┆              ┆              ┆              ┆             ┆             │\n",
       "│ Ex       ┆ 327041.04132 ┆ 113563.23739 ┆ 123500       ┆ 755000       ┆ 121         ┆ 39571966    │\n",
       "│          ┆ 2            ┆ 2            ┆              ┆              ┆             ┆             │\n",
       "└──────────┴──────────────┴──────────────┴──────────────┴──────────────┴─────────────┴─────────────┘"
      ]
     },
     "metadata": {},
     "output_type": "display_data"
    }
   ],
   "source": [
    "result = (\n",
    "    train_df.group_by(\"BsmtQual\")\n",
    "    .agg(\n",
    "        [\n",
    "            pl.mean(\"SalePrice\").alias(\"SalePrice_mean\"),\n",
    "            pl.std(\"SalePrice\").alias(\"SalePrice_std\"),\n",
    "            pl.min(\"SalePrice\").alias(\"SalePrice_min\"),\n",
    "            pl.max(\"SalePrice\").alias(\"SalePrice_max\"),\n",
    "            pl.count(\"SalePrice\").alias(\"SalePrice_count\"),\n",
    "            pl.sum(\"SalePrice\").alias(\"SalePrice_sum\"),\n",
    "        ]\n",
    "    )\n",
    "    .sort(\"SalePrice_mean\")\n",
    ")\n",
    "\n",
    "display(result)\n"
   ]
  },
  {
   "cell_type": "markdown",
   "metadata": {},
   "source": [
    "### 結合\n",
    "`join` : データフレームを結合する\n",
    "* `inner` : 内部結合\n",
    "* `left` : 左外部結合\n",
    "* `right` : 右外部結合\n",
    "* `outer` : 外部結合\n",
    "* `cross` : クロス結合"
   ]
  },
  {
   "cell_type": "code",
   "execution_count": null,
   "metadata": {},
   "outputs": [
    {
     "data": {
      "text/html": [
       "<div><style>\n",
       ".dataframe > thead > tr,\n",
       ".dataframe > tbody > tr {\n",
       "  text-align: right;\n",
       "  white-space: pre-wrap;\n",
       "}\n",
       "</style>\n",
       "<small>shape: (5, 3)</small><table border=\"1\" class=\"dataframe\"><thead><tr><th>BsmtQual</th><th>BsmtFinSF1</th><th>BsmtFinSF1_mean</th></tr><tr><td>str</td><td>i64</td><td>f64</td></tr></thead><tbody><tr><td>&quot;Gd&quot;</td><td>706</td><td>472.501618</td></tr><tr><td>&quot;Gd&quot;</td><td>978</td><td>472.501618</td></tr><tr><td>&quot;Gd&quot;</td><td>486</td><td>472.501618</td></tr><tr><td>&quot;TA&quot;</td><td>216</td><td>381.568567</td></tr><tr><td>&quot;Gd&quot;</td><td>655</td><td>472.501618</td></tr></tbody></table></div>"
      ],
      "text/plain": [
       "shape: (5, 3)\n",
       "┌──────────┬────────────┬─────────────────┐\n",
       "│ BsmtQual ┆ BsmtFinSF1 ┆ BsmtFinSF1_mean │\n",
       "│ ---      ┆ ---        ┆ ---             │\n",
       "│ str      ┆ i64        ┆ f64             │\n",
       "╞══════════╪════════════╪═════════════════╡\n",
       "│ Gd       ┆ 706        ┆ 472.501618      │\n",
       "│ Gd       ┆ 978        ┆ 472.501618      │\n",
       "│ Gd       ┆ 486        ┆ 472.501618      │\n",
       "│ TA       ┆ 216        ┆ 381.568567      │\n",
       "│ Gd       ┆ 655        ┆ 472.501618      │\n",
       "└──────────┴────────────┴─────────────────┘"
      ]
     },
     "metadata": {},
     "output_type": "display_data"
    }
   ],
   "source": [
    "# 集約処理した内容を結合する\n",
    "agg_df = (\n",
    "    train_df.group_by(\"BsmtQual\")\n",
    "    .agg(\n",
    "        [\n",
    "            pl.mean(\"BsmtFinSF1\").alias(\"BsmtFinSF1_mean\"),\n",
    "            pl.std(\"BsmtFinSF1\").alias(\"BsmtFinSF1_std\"),\n",
    "            pl.min(\"BsmtFinSF1\").alias(\"BsmtFinSF1_min\"),\n",
    "            pl.max(\"BsmtFinSF1\").alias(\"BsmtFinSF1_max\"),\n",
    "            pl.count(\"BsmtFinSF1\").alias(\"BsmtFinSF1_count\"),\n",
    "            pl.sum(\"BsmtFinSF1\").alias(\"BsmtFinSF1_sum\"),\n",
    "        ]\n",
    "    )\n",
    "    .sort(\"BsmtFinSF1_mean\")\n",
    ")\n",
    "\n",
    "# train_dfとagg_dfを結合する(leftとすることで、train_dfのBsmtQualに対してagg_dfのBsmtQualを結合する)\n",
    "train_df = train_df.join(agg_df, on=\"BsmtQual\", how=\"left\")\n",
    "display(train_df.select([\"BsmtQual\", \"BsmtFinSF1\", \"BsmtFinSF1_mean\"]).head())\n"
   ]
  },
  {
   "cell_type": "markdown",
   "metadata": {},
   "source": [
    "### 遅延評価\n",
    "\n",
    "`lazy` : 遅延評価を行う  \n",
    "`collect` : 遅延評価を実行する"
   ]
  },
  {
   "cell_type": "code",
   "execution_count": 48,
   "metadata": {},
   "outputs": [
    {
     "data": {
      "text/html": [
       "<div><style>\n",
       ".dataframe > thead > tr,\n",
       ".dataframe > tbody > tr {\n",
       "  text-align: right;\n",
       "  white-space: pre-wrap;\n",
       "}\n",
       "</style>\n",
       "<small>shape: (5, 3)</small><table border=\"1\" class=\"dataframe\"><thead><tr><th>BsmtQual</th><th>SalePrice_mean</th><th>SalePriceCategory</th></tr><tr><td>str</td><td>f64</td><td>str</td></tr></thead><tbody><tr><td>&quot;NA&quot;</td><td>105652.891892</td><td>&quot;Low&quot;</td></tr><tr><td>&quot;Fa&quot;</td><td>115692.028571</td><td>&quot;Low&quot;</td></tr><tr><td>&quot;TA&quot;</td><td>140759.818182</td><td>&quot;Low&quot;</td></tr><tr><td>&quot;Gd&quot;</td><td>202688.478964</td><td>&quot;Middle&quot;</td></tr><tr><td>&quot;Ex&quot;</td><td>327041.041322</td><td>&quot;High&quot;</td></tr></tbody></table></div>"
      ],
      "text/plain": [
       "shape: (5, 3)\n",
       "┌──────────┬────────────────┬───────────────────┐\n",
       "│ BsmtQual ┆ SalePrice_mean ┆ SalePriceCategory │\n",
       "│ ---      ┆ ---            ┆ ---               │\n",
       "│ str      ┆ f64            ┆ str               │\n",
       "╞══════════╪════════════════╪═══════════════════╡\n",
       "│ NA       ┆ 105652.891892  ┆ Low               │\n",
       "│ Fa       ┆ 115692.028571  ┆ Low               │\n",
       "│ TA       ┆ 140759.818182  ┆ Low               │\n",
       "│ Gd       ┆ 202688.478964  ┆ Middle            │\n",
       "│ Ex       ┆ 327041.041322  ┆ High              │\n",
       "└──────────┴────────────────┴───────────────────┘"
      ]
     },
     "metadata": {},
     "output_type": "display_data"
    }
   ],
   "source": [
    "result_df = (\n",
    "    train_df.lazy()  # lazyをつけることで、遅延評価を行う\n",
    "    .group_by(\"BsmtQual\")\n",
    "    .agg(\n",
    "        [\n",
    "            pl.mean(\"SalePrice\").alias(\"SalePrice_mean\"),\n",
    "            pl.std(\"SalePrice\").alias(\"SalePrice_std\"),\n",
    "            pl.min(\"SalePrice\").alias(\"SalePrice_min\"),\n",
    "            pl.max(\"SalePrice\").alias(\"SalePrice_max\"),\n",
    "            pl.count(\"SalePrice\").alias(\"SalePrice_count\"),\n",
    "            pl.sum(\"SalePrice\").alias(\"SalePrice_sum\"),\n",
    "        ]\n",
    "    )\n",
    "    .sort(\"SalePrice_mean\")\n",
    "    .select([\"BsmtQual\", \"SalePrice_mean\"])\n",
    "    .with_columns(\n",
    "        [\n",
    "            pl.when(pl.col(\"SalePrice_mean\") < 200000)\n",
    "            .then(pl.lit(\"Low\"))\n",
    "            .when(pl.col(\"SalePrice_mean\") < 300000)\n",
    "            .then(pl.lit(\"Middle\"))\n",
    "            .otherwise(pl.lit(\"High\"))\n",
    "            .alias(\"SalePriceCategory\"),\n",
    "        ]\n",
    "    )\n",
    "    .collect()  # collect()で遅延していた処理を実行する\n",
    ")\n",
    "\n",
    "\n",
    "display(result_df)\n"
   ]
  },
  {
   "cell_type": "code",
   "execution_count": null,
   "metadata": {},
   "outputs": [],
   "source": []
  }
 ],
 "metadata": {
  "kernelspec": {
   "display_name": ".venv",
   "language": "python",
   "name": "python3"
  },
  "language_info": {
   "codemirror_mode": {
    "name": "ipython",
    "version": 3
   },
   "file_extension": ".py",
   "mimetype": "text/x-python",
   "name": "python",
   "nbconvert_exporter": "python",
   "pygments_lexer": "ipython3",
   "version": "3.12.5"
  }
 },
 "nbformat": 4,
 "nbformat_minor": 2
}
