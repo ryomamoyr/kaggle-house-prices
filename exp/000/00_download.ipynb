{
 "cells": [
  {
   "cell_type": "code",
   "execution_count": 1,
   "metadata": {},
   "outputs": [
    {
     "name": "stdout",
     "output_type": "stream",
     "text": [
      "Downloading house-prices-advanced-regression-techniques.zip to /Users/dts-da002n/00_project/kaggle/exp/000\n",
      "100%|█████████████████████████████████████████| 199k/199k [00:01<00:00, 146kB/s]\n",
      "100%|█████████████████████████████████████████| 199k/199k [00:01<00:00, 145kB/s]\n",
      "Archive:  house-prices-advanced-regression-techniques.zip\n",
      "  inflating: data_description.txt    \n",
      "  inflating: sample_submission.csv   \n",
      "  inflating: test.csv                \n",
      "  inflating: train.csv               \n"
     ]
    }
   ],
   "source": [
    "# https://www.kaggle.com/competitions/house-prices-advanced-regression-techniques/\n",
    "!kaggle competitions download -c house-prices-advanced-regression-techniques\n",
    "!unzip house-prices-advanced-regression-techniques.zip\\\n",
    "    && rm -rf house-prices-advanced-regression-techniques.zip\\\n",
    "    && mv -f ./*.{csv,txt} ../../data/\n"
   ]
  }
 ],
 "metadata": {
  "kernelspec": {
   "display_name": ".venv",
   "language": "python",
   "name": "python3"
  },
  "language_info": {
   "codemirror_mode": {
    "name": "ipython",
    "version": 3
   },
   "file_extension": ".py",
   "mimetype": "text/x-python",
   "name": "python",
   "nbconvert_exporter": "python",
   "pygments_lexer": "ipython3",
   "version": "3.12.5"
  }
 },
 "nbformat": 4,
 "nbformat_minor": 2
}
